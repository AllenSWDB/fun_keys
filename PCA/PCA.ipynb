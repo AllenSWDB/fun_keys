{
 "cells": [
  {
   "cell_type": "markdown",
   "id": "df2cbb6b-c0c7-4a0d-b4d8-87c913720bfb",
   "metadata": {},
   "source": [
    "#  running PCA + saving results"
   ]
  },
  {
   "cell_type": "markdown",
   "id": "e08d44b5-3c91-4e83-a7b8-457577b3d891",
   "metadata": {},
   "source": [
    "**results dictionary:**\n",
    "- dict\n",
    "    - session\n",
    "        - trial df\n",
    "        - full\n",
    "            - ['evals', 'evecs', 'PR', 'SS stim', 'SS time', 'project', 'stim labels', 'time labels', 'state labels', 'ss state']\n",
    "        - state 0/1\n",
    "            - ['evals', 'evecs', 'PR', 'SS stim', 'SS time', 'project', 'stim labels', 'time labels']"
   ]
  },
  {
   "cell_type": "markdown",
   "id": "b2e0b211-ae89-45d8-8218-82d4a44bf62e",
   "metadata": {
    "tags": []
   },
   "source": [
    "# PARAMS\n",
    "    session_id = 1139846596\n",
    "    amplitude_cutoff_maximum = 0.1\n",
    "    presence_ratio_minimum = 0.9\n",
    "    isi_violations_maximum = 0.5\n",
    "    region = 'VISp'\n",
    "    post_stim_dur = 0 (or 0.5 for full 750ms)"
   ]
  },
  {
   "cell_type": "markdown",
   "id": "97e8e229-4be4-4b56-ae27-a2186323d598",
   "metadata": {
    "tags": []
   },
   "source": [
    "# setup"
   ]
  },
  {
   "cell_type": "code",
   "execution_count": 1,
   "id": "0154c734-560a-4f0d-9ad1-5aef4f40189c",
   "metadata": {
    "tags": []
   },
   "outputs": [],
   "source": [
    "import warnings\n",
    "warnings.filterwarnings(\"ignore\")\n",
    "import numpy as np\n",
    "import pandas as pd\n",
    "import os\n",
    "import matplotlib.pyplot as plt\n",
    "import seaborn as sns\n",
    "from matplotlib.colors import ListedColormap\n",
    "%matplotlib inline\n",
    "import plotly.express as px\n",
    "from sklearn.metrics import silhouette_score\n",
    "from data.load_data import *\n",
    "from PCA_utils import *\n",
    "from collections import defaultdict\n",
    "import time\n",
    "import pickle\n",
    "%load_ext autoreload\n",
    "%autoreload 2"
   ]
  },
  {
   "cell_type": "markdown",
   "id": "96776134-24d0-4c7b-bc12-ff3914a12374",
   "metadata": {},
   "source": [
    "matching trials across contexts\n",
    "- `trials_id` in `trial_df` has unique id for each trial type in presentation order; repeats for each condition i.e. **relative**\n",
    "- made an additional index of unique trial identifers, different for active vs passive; called **absolute**"
   ]
  },
  {
   "cell_type": "markdown",
   "id": "c612ee05-a6e4-4912-aff4-574bedb6f852",
   "metadata": {},
   "source": [
    "TODOs:\n",
    "- run analysis on active vs passive as states (skip HMM states import)\n",
    "- run analysis on all neurons (not just VISp)\n",
    "    - FD wants VISpme2\n",
    "- plots / interpretations\n",
    "- cell type weights\n",
    "\n",
    "\n",
    "ipad todos\n",
    "- AvP: SS plot,"
   ]
  },
  {
   "cell_type": "code",
   "execution_count": 16,
   "id": "680a67bb-74bd-454a-8953-f18ff344b870",
   "metadata": {
    "tags": []
   },
   "outputs": [],
   "source": [
    "HMM_files = os.listdir('../analysis_data')\n",
    "full_HMMs = [x for x in HMM_files if ('AP' in x) & ('new' in x)]  # HMM run on active and passive together"
   ]
  },
  {
   "cell_type": "code",
   "execution_count": 18,
   "id": "1cc2fdc9-055a-4fa9-8b97-649b202df0bc",
   "metadata": {
    "tags": []
   },
   "outputs": [
    {
     "name": "stdout",
     "output_type": "stream",
     "text": [
      "working on session 1053925378 ...\n",
      "working on session 1064415305 ...\n",
      "working on session 1081090969 ...\n",
      "working on session 1108334384 ...\n",
      "working on session 1115356973 ...\n",
      "time elapsed: 366.2976927757263\n"
     ]
    }
   ],
   "source": [
    "st = time.time()\n",
    "\n",
    "cache = load_cache_behavior_neuropixel()\n",
    "\n",
    "full_dict = defaultdict(dict)  # dictionary to hold data from all sessions\n",
    "\n",
    "for HMM_filename in full_HMMs:\n",
    "    \n",
    "    session_id = HMM_filename[2:12]\n",
    "    \n",
    "    print('working on session', session_id, '...')\n",
    "    \n",
    "    session = cache.get_ecephys_session(session_id)\n",
    "    \n",
    "    trial_df = pd.read_feather(os.path.join('../analysis_data', HMM_filename))\n",
    "    trial_df.set_index('stimulus_presentations_id', inplace=True)\n",
    "    trial_df['state'] = trial_df['state'].apply(int).apply(str) #convert to string so classifier functions don't get confused\n",
    "\n",
    "    # turn relative trial ideas (repeat for active+passive) into absolute/unique\n",
    "    num_trial_ids = len(trial_df.trials_id.unique())\n",
    "    unique_trial_ids = np.arange(0,num_trial_ids*2)\n",
    "    trial_df['abs_trial_id'] = np.repeat(unique_trial_ids, 4)\n",
    "    \n",
    "    # get FRs\n",
    "    counts_df = get_spikes(cache, session, trial_df, region='VISp', post_stim_dur=0)\n",
    "    \n",
    "    # do PCA\n",
    "    session_dict = create_session_dict(trial_df, counts_df)\n",
    "    \n",
    "    full_dict[session_id] = session_dict\n",
    "    \n",
    "print('time elapsed:', time.time()-st)"
   ]
  },
  {
   "cell_type": "code",
   "execution_count": 19,
   "id": "4b696e17-893c-4736-8ebe-33441e243e1b",
   "metadata": {
    "tags": []
   },
   "outputs": [],
   "source": [
    "with open('HMM_dict_VISp_new.pkl', 'wb') as file:\n",
    "    pickle.dump(full_dict, file)"
   ]
  },
  {
   "cell_type": "code",
   "execution_count": null,
   "id": "07210b96-639a-475f-8043-bbd3ba11ea3b",
   "metadata": {
    "tags": []
   },
   "outputs": [
    {
     "name": "stdout",
     "output_type": "stream",
     "text": [
      "working on session 1053925378 ...\n",
      "working on session 1064415305 ...\n",
      "working on session 1081090969 ...\n",
      "working on session 1108334384 ...\n",
      "working on session 1115356973 ...\n"
     ]
    }
   ],
   "source": [
    "# same but states are active and passive instead of HMM-defined\n",
    "st = time.time()\n",
    "\n",
    "cache = load_cache_behavior_neuropixel()\n",
    "full_dict = defaultdict(dict)  # dictionary to hold data from all sessions\n",
    "session_ids = [x[2:12] for x in HMM_files if 'AP' in x]\n",
    "\n",
    "for session_id in session_ids:\n",
    "    \n",
    "    print('working on session', session_id, '...')\n",
    "    session = cache.get_ecephys_session(session_id)\n",
    "    \n",
    "    trial_df = get_trial_df(session)\n",
    "    trial_df['state'] = (~trial_df.active).apply(int).apply(str)  # <- here is where states are defined\n",
    "\n",
    "    # turn relative trial ideas (repeat for active+passive) into absolute/unique\n",
    "    num_trial_ids = len(trial_df.trials_id.unique())\n",
    "    unique_trial_ids = np.arange(0,num_trial_ids*2)\n",
    "    trial_df['abs_trial_id'] = np.repeat(unique_trial_ids, 4)\n",
    "    \n",
    "    # get FRs\n",
    "    counts_df = get_spikes(cache, session, trial_df, region='VISp', post_stim_dur=0)\n",
    "    \n",
    "    # do PCA\n",
    "    session_dict = create_session_dict(trial_df, counts_df)\n",
    "    \n",
    "    full_dict[session_id] = session_dict\n",
    "    \n",
    "print('time elapsed:', time.time()-st)"
   ]
  },
  {
   "cell_type": "markdown",
   "id": "8f1863be-0423-4f6a-8ef9-d658942c20d4",
   "metadata": {
    "jp-MarkdownHeadingCollapsed": true,
    "tags": []
   },
   "source": [
    "# expanded code\n",
    "(before everything was function-ized and put in PCA_utils.py)"
   ]
  },
  {
   "cell_type": "markdown",
   "id": "99f6bb4b-568d-4858-9336-4d764a1d04bd",
   "metadata": {
    "jp-MarkdownHeadingCollapsed": true,
    "tags": []
   },
   "source": [
    "### spikes"
   ]
  },
  {
   "cell_type": "code",
   "execution_count": null,
   "id": "c28c1136-c510-4095-b4d9-0683616bc4ae",
   "metadata": {
    "tags": []
   },
   "outputs": [],
   "source": [
    "# get spike times for all units recorded\n",
    "spike_times = session.spike_times # dict\n",
    "\n",
    "# get unit metadata for this session + apply quality metrics\n",
    "# PARAMS\n",
    "all_units = session.get_units(\n",
    "    amplitude_cutoff_maximum = 0.1, \n",
    "    presence_ratio_minimum = 0.9,\n",
    "    isi_violations_maximum = 0.5\n",
    ")\n",
    "\n",
    "# merge to channel data to match units to brain regions\n",
    "channels = cache.get_channel_table()\n",
    "unit_channels = all_units.merge(channels, left_on='peak_channel_id', right_index=True)\n",
    "\n",
    "# to filter by region\n",
    "units_df = unit_channels.loc[unit_channels.structure_acronym=='VISp'] #PARAMS"
   ]
  },
  {
   "cell_type": "markdown",
   "id": "31085e72-b482-4f65-a22c-524624f589de",
   "metadata": {},
   "source": [
    "for each trial, count spikes in stim windows and average across the 4 stims\n",
    "\n",
    "design matrix will look like this for each condition/state\n",
    "\n",
    "| | unit 1 | unit 2 | unit 3 | ... | unit N |\n",
    "|--|--|--|--|--|--|\n",
    "| trial 1 |\n",
    "| trial 2 |\n",
    "| trial 3 |\n",
    "| ... |\n",
    "| trial M |"
   ]
  },
  {
   "cell_type": "code",
   "execution_count": null,
   "id": "a7fe4254-6b04-4644-8f70-36277d47606c",
   "metadata": {
    "tags": []
   },
   "outputs": [],
   "source": [
    "post_stim_dur = 0 #PARAMS"
   ]
  },
  {
   "cell_type": "code",
   "execution_count": null,
   "id": "c7d91c7d-471d-4330-a65e-4c06127585bf",
   "metadata": {
    "tags": []
   },
   "outputs": [],
   "source": [
    "# get spike counts within each stim pres window\n",
    "spike_mat = np.zeros([len(trial_df), len(units_df)])\n",
    "\n",
    "for i,unit in enumerate(units_df.index): #for each neuron 1:N...\n",
    "    spikes = spike_times[unit]\n",
    "    counts = [] #initialize column vector\n",
    "\n",
    "    for start,end in zip(trial_df.start_time, trial_df.end_time): #for each stim presentation...\n",
    "        startInd = np.searchsorted(spikes, start)\n",
    "        endInd = np.searchsorted(spikes, end+post_stim_dur)\n",
    "        rel_spike_times = spikes[startInd:endInd]-start #relative spike times in this window\n",
    "        count = len(rel_spike_times)\n",
    "        counts.append(count) #append spike counts for this stim pres\n",
    "        \n",
    "    spike_mat[:,i] = counts #add column vector of FRs for this neuron to spike matrix\n",
    "%matplotlib inline\n",
    "plt.figure(figsize=(14,2))\n",
    "plt.plot(spike_mat, alpha=.5);"
   ]
  },
  {
   "cell_type": "code",
   "execution_count": null,
   "id": "578acd3b-4ed3-47d7-ac1c-7d481083ec12",
   "metadata": {
    "tags": []
   },
   "outputs": [],
   "source": [
    "counts_df = pd.DataFrame(\n",
    "    data = spike_mat,\n",
    "    index = trial_df.index,\n",
    "    columns = units_df.index\n",
    ")\n",
    "counts_df['abs_trial_id'] = trial_df.abs_trial_id"
   ]
  },
  {
   "cell_type": "markdown",
   "id": "01bf2971-a9bb-4853-b505-a478a1c1b626",
   "metadata": {
    "tags": []
   },
   "source": [
    "## PCA"
   ]
  },
  {
   "cell_type": "code",
   "execution_count": null,
   "id": "52602e00-837b-41a0-9a22-b31e9662e6b3",
   "metadata": {
    "tags": []
   },
   "outputs": [],
   "source": [
    "session_dict = create_session_dict(trial_df, counts_df)"
   ]
  },
  {
   "cell_type": "code",
   "execution_count": null,
   "id": "3b4fd36b-9163-406c-9346-e1c2a1d5c54b",
   "metadata": {
    "tags": []
   },
   "outputs": [],
   "source": [
    "plot_state_pcas(session_dict)"
   ]
  },
  {
   "cell_type": "code",
   "execution_count": null,
   "id": "80840c0e-4352-4417-8a4a-201c82ab30a0",
   "metadata": {
    "tags": []
   },
   "outputs": [],
   "source": [
    "plot_full_pca(session_dict)"
   ]
  },
  {
   "cell_type": "markdown",
   "id": "2f91e51f-334b-4cb5-9d16-88cbf663f768",
   "metadata": {
    "jp-MarkdownHeadingCollapsed": true,
    "tags": []
   },
   "source": [
    "### old functions"
   ]
  },
  {
   "cell_type": "code",
   "execution_count": null,
   "id": "658b744c-0966-471a-a866-fe41995eb087",
   "metadata": {
    "tags": []
   },
   "outputs": [],
   "source": [
    "def get_dm(counts_df, state_stims, agg_over_tr=True):\n",
    "    ''' get max-normalized design matrix\n",
    "    '''\n",
    "    if agg_over_tr:\n",
    "        FRs = counts_df.loc[state_stims].groupby('abs_trial_id').agg('mean')\n",
    "        FRs_normed = FRs / FRs.max()\n",
    "    else:\n",
    "        FRs_normed = counts_df.loc[state_stims] / counts_df.loc[state_stims].max()\n",
    "    \n",
    "    return FRs_normed"
   ]
  },
  {
   "cell_type": "code",
   "execution_count": null,
   "id": "34012ee8-0934-4462-956a-c28b36ce991a",
   "metadata": {
    "tags": []
   },
   "outputs": [],
   "source": [
    "def do_pca(dm):\n",
    "    # input should be features X samples\n",
    "    cov_mat = np.cov(dm)\n",
    "    evals, evecs = np.linalg.eig(cov_mat)\n",
    "\n",
    "    return evals, evecs"
   ]
  },
  {
   "cell_type": "code",
   "execution_count": null,
   "id": "d1484211-7b31-4749-a601-1fb88073be96",
   "metadata": {
    "tags": []
   },
   "outputs": [],
   "source": [
    "def participation_ratio(evals):\n",
    "    return (np.sum(evals)**2) / np.sum(evals**2)"
   ]
  },
  {
   "cell_type": "code",
   "execution_count": null,
   "id": "91d8ecb5-f757-45f8-8841-834aaa803963",
   "metadata": {
    "tags": []
   },
   "outputs": [],
   "source": [
    "def create_session_dict(trial_df, counts_df):\n",
    "    session_dict = {}\n",
    "    \n",
    "    states = trial_df.state.unique()\n",
    "\n",
    "    for state in states:\n",
    "        state_inds = trial_df.loc[trial_df.state==state].index\n",
    "        state_dm = get_dm(counts_df, state_inds)\n",
    "        evals, evecs = do_pca(state_dm.T)\n",
    "\n",
    "        pr = participation_ratio(evals)\n",
    "\n",
    "        # mean-center the data + project into PC space\n",
    "        state_cent = state_dm - state_dm.mean()\n",
    "        project = np.dot(np.transpose(evecs[:,0:3]), state_cent.T)\n",
    "\n",
    "        # stim analysis\n",
    "        int_labels = trial_df.loc[state_inds].groupby(['abs_trial_id', 'image_int']).agg('max').index.get_level_values(1).to_numpy()\n",
    "        img_labels = trial_df.loc[state_inds].groupby(['abs_trial_id', 'image_name']).agg('max').index.get_level_values(1).to_numpy()\n",
    "        ss_stim = silhouette_score(X=state_dm,labels=img_labels)\n",
    "\n",
    "        # time analysis\n",
    "        trial_labels = trial_df.loc[state_inds].groupby('abs_trial_id').agg('max').index.to_numpy()\n",
    "        trial_splits = np.array_split(trial_labels, 3) # split time into 1st, 2nd, 3rd chunks for classification\n",
    "        splits_labels = []\n",
    "        for split in range(3):\n",
    "            splits_labels += ([str(split)] * len(trial_splits[split]))\n",
    "        ss_time = silhouette_score(X=state_dm,labels=splits_labels)\n",
    "\n",
    "        state_active = trial_df.loc[state_inds].active\n",
    "        prop_active = sum(state_active) / len(state_active)\n",
    "\n",
    "        session_dict[state] = {\n",
    "            'evals' : evals,\n",
    "            'evecs' : evecs,\n",
    "            'PR' : pr,\n",
    "            'SS stim' : ss_stim,\n",
    "            'SS time' : ss_time,\n",
    "            'project' : project,\n",
    "            'stim labels' : int_labels,\n",
    "            'time labels' : trial_labels,\n",
    "            '% active' : prop_active,\n",
    "            'trial df' : trial_df\n",
    "        }\n",
    "    \n",
    "    return session_dict"
   ]
  },
  {
   "cell_type": "code",
   "execution_count": null,
   "id": "9ebacb2c-730a-498c-96b2-b49ece51fc95",
   "metadata": {
    "tags": []
   },
   "outputs": [],
   "source": [
    "def plot_state_pcas(session_dict):\n",
    "\n",
    "    states = session_dict['trial df'].state.unique()\n",
    "    \n",
    "    %matplotlib inline\n",
    "    f1,ax1 = plt.subplots(1,len(states), figsize=(8,3.2))\n",
    "    f2,ax2 = plt.subplots(1,len(states), figsize=(8,3))\n",
    "\n",
    "    for state in states:\n",
    "\n",
    "        s = session_dict[state]\n",
    "\n",
    "        ax1[int(state)].scatter(s['project'][0], s['project'][1], c=s['stim labels'])\n",
    "        ax1[int(state)].set(xlabel='PC1',ylabel='PC2',title='state '+state)\n",
    "\n",
    "        ax2[int(state)].scatter(s['project'][0], s['project'][1], c=s['time labels'])\n",
    "        ax2[int(state)].set(xlabel='PC1',ylabel='PC2',title='state '+state)\n",
    "\n",
    "    f1.suptitle(str(session_id) + '\\ncolored by stimulus')\n",
    "    f1.tight_layout()\n",
    "    f2.suptitle('colored by time')\n",
    "    f2.tight_layout()"
   ]
  },
  {
   "cell_type": "code",
   "execution_count": null,
   "id": "6e17da84-ae50-4501-bec5-789fb56c8520",
   "metadata": {
    "tags": []
   },
   "outputs": [],
   "source": [
    "def plot_full_pca(session_dict):\n",
    "\n",
    "    s = session_dict['full']\n",
    "    f,ax = plt.subplots(1,len(states), figsize=(8,3.2))\n",
    "\n",
    "    ax[0].scatter(s['project'][0], s['project'][1], c=s['stim labels'])\n",
    "    ax[0].set(xlabel='PC1',ylabel='PC2',title='colored by stim')\n",
    "\n",
    "    ax[1].scatter(s['project'][0], s['project'][1], c=s['time labels'])\n",
    "    ax[1].set(xlabel='PC1',ylabel='PC2',title='colored by trial')\n",
    "\n",
    "    ax[2].scatter(s['project'][0], s['project'][1], c=s['state labels'])\n",
    "    ax[2].set(xlabel='PC1',ylabel='PC2',title='colored by state')\n",
    "\n",
    "    f.suptitle(session_id)\n",
    "    f.tight_layout()"
   ]
  },
  {
   "cell_type": "markdown",
   "id": "e0feb7cc-1e5d-448a-b7c9-c0a30d45b0ad",
   "metadata": {
    "jp-MarkdownHeadingCollapsed": true,
    "tags": []
   },
   "source": [
    "## split by stim pres within trial"
   ]
  },
  {
   "cell_type": "markdown",
   "id": "26e93564-bb1f-4c0f-acc0-ce917fe87717",
   "metadata": {},
   "source": [
    "for each trial, count spikes in stim windows\n",
    "each row will be 1 stim presentation (i.e. dims will be like stim df)\n",
    "\n",
    "design matrix will look like this for each condition/state\n",
    "\n",
    "| | unit 1 | unit 2 | unit 3 | ... | unit N |\n",
    "|--|--|--|--|--|--|\n",
    "| trial 1 stim 1|\n",
    "| trial 1 stim 2 |\n",
    "| trial 1 stim 3 |\n",
    "| trial 1 stim 4 |\n",
    "| trial 2 stim 1 |\n",
    "| ... |\n",
    "| trial M stim 4 |\n",
    "\n",
    "**i.e. spike_mat, before averaging within trial**"
   ]
  },
  {
   "cell_type": "code",
   "execution_count": null,
   "id": "e2a2ef76-ae6d-457a-bfa2-b78df36f510e",
   "metadata": {
    "tags": []
   },
   "outputs": [],
   "source": [
    "all_evals = np.zeros((4, stim1_dm.shape[1])) #stim X neurons\n",
    "all_evecs = np.zeros((4, stim1_dm.shape[1], stim1_dm.shape[1]))\n",
    "\n",
    "for stim in range(4):\n",
    "    stim_inds = counts_df.index[stim::4]\n",
    "    stim_dm = get_dm(counts_df, stim_inds, agg_over_tr=False)\n",
    "    evals, evecs = do_pca(stim_dm.T)\n",
    "    \n",
    "    all_evals[stim,:] = evals\n",
    "    all_evecs[stim,:,:] = evecs\n",
    "    \n",
    "    print('stim', stim+1)\n",
    "    print('    participation ratio:', participation_ratio(evals))\n",
    "    print('    silhouette score:', silhouette_score(X=stim_dm,labels=list(stims_img)*2))"
   ]
  },
  {
   "cell_type": "code",
   "execution_count": null,
   "id": "3f7fb74a-2840-4576-b06a-01d4e4bff6a2",
   "metadata": {
    "tags": []
   },
   "outputs": [],
   "source": [
    "%matplotlib inline\n",
    "f,ax = plt.subplots(1,1)\n",
    "\n",
    "for stim in range(4):\n",
    "    frac_expl = np.cumsum(all_evals[stim])/np.sum(all_evals[stim])\n",
    "    ax.plot(frac_expl)\n",
    "    ax.set(xlabel='Number of PCs', ylabel='Fraction of Variance Explained')\n",
    "    ax.legend(labels=[1,2,3,4])"
   ]
  },
  {
   "cell_type": "code",
   "execution_count": null,
   "id": "50995b27-e062-46f7-b958-434be263bdee",
   "metadata": {
    "tags": []
   },
   "outputs": [],
   "source": [
    "%matplotlib widget\n",
    "f = plt.figure()\n",
    "# ax = f.add_subplot(projection='3d')\n",
    "\n",
    "for stim in range(4):\n",
    "    stim_cent = stim_dm - stim_dm.mean() # mean-center the data\n",
    "    project = np.dot(np.transpose(all_evecs[stim,:,0:3]), stim_cent.T) # project into PC space\n",
    "    ax = f.add_subplot(2, 2, stim+1, projection='3d')\n",
    "    ax.scatter(project[0], project[1], project[2], c=list(stims)*2);\n",
    "    ax.set(xlabel='PC1', ylabel='PC2', zlabel='PC3', title='colored by stim');\n",
    "plt.show()"
   ]
  },
  {
   "cell_type": "code",
   "execution_count": null,
   "id": "6e71779f-3b0d-48d6-b053-c7401449fc2e",
   "metadata": {
    "tags": []
   },
   "outputs": [],
   "source": [
    "np.zeros(counts_df.shape).shape"
   ]
  },
  {
   "cell_type": "code",
   "execution_count": null,
   "id": "9c2f4f69-af7c-4cf3-baa3-18ac7ff403f9",
   "metadata": {
    "tags": []
   },
   "outputs": [],
   "source": [
    "full_stim_dm = np.zeros(counts_df.shape)\n",
    "for stim in range(4):\n",
    "    stim_inds = counts_df.index[stim::4]\n",
    "    stim_dm = get_dm(counts_df, stim_inds, agg_over_tr=False)\n",
    "    \n",
    "    start_ind = stim * len(stim_inds)\n",
    "    end_ind = stim * len(stim_inds) + len(stim_inds)\n",
    "    \n",
    "    full_stim_dm[start_ind:end_ind, :] = stim_dm"
   ]
  },
  {
   "cell_type": "code",
   "execution_count": null,
   "id": "f418e6e3-997b-4f9b-a985-a6289b79b6fb",
   "metadata": {
    "tags": []
   },
   "outputs": [],
   "source": [
    "evals, evecs = do_pca(full_stim_dm.T)\n",
    "participation_ratio(evals)"
   ]
  },
  {
   "cell_type": "code",
   "execution_count": null,
   "id": "ebb96681-7b91-44f7-8c47-f48ada8d5361",
   "metadata": {
    "tags": []
   },
   "outputs": [],
   "source": [
    "evals.shape"
   ]
  },
  {
   "cell_type": "code",
   "execution_count": null,
   "id": "7f9e24db-d2a2-4e39-b5b4-18062555efa9",
   "metadata": {
    "tags": []
   },
   "outputs": [],
   "source": [
    "evecs.shape"
   ]
  },
  {
   "cell_type": "code",
   "execution_count": null,
   "id": "24b67c9e-0db7-4a7a-866b-c3677de482d4",
   "metadata": {
    "tags": []
   },
   "outputs": [],
   "source": [
    "stim_cent = full_stim_dm - full_stim_dm.mean() # mean-center the data\n",
    "project = np.dot(np.transpose(evecs[:,0:3]), stim_cent.T) # project into PC space"
   ]
  },
  {
   "cell_type": "code",
   "execution_count": null,
   "id": "d6bb22ff-fe92-49e7-869b-fddd41f7a5da",
   "metadata": {
    "tags": []
   },
   "outputs": [],
   "source": [
    "import seaborn as sns\n",
    "from matplotlib.colors import ListedColormap"
   ]
  },
  {
   "cell_type": "code",
   "execution_count": null,
   "id": "3361e3f4-c8d7-4df9-8b33-434fb5e56797",
   "metadata": {
    "tags": []
   },
   "outputs": [],
   "source": [
    "cmap = ListedColormap(sns.color_palette('bright'))"
   ]
  },
  {
   "cell_type": "code",
   "execution_count": null,
   "id": "bac5a516-ee9c-4697-900d-05115d47ad39",
   "metadata": {
    "tags": []
   },
   "outputs": [],
   "source": []
  },
  {
   "cell_type": "code",
   "execution_count": null,
   "id": "1c309504-0e09-46f3-930a-4696c2447cab",
   "metadata": {
    "tags": []
   },
   "outputs": [],
   "source": [
    "project.shape"
   ]
  },
  {
   "cell_type": "code",
   "execution_count": null,
   "id": "a74fbbe5-5693-4dc3-9fb3-32a0c1a311d7",
   "metadata": {
    "tags": []
   },
   "outputs": [],
   "source": [
    "# plot and color by stim\n",
    "%matplotlib widget\n",
    "f = plt.figure()\n",
    "ax = f.add_subplot(projection='3d')\n",
    "\n",
    "stim_cent = full_stim_dm - full_stim_dm.mean() # mean-center the data\n",
    "project = np.dot(np.transpose(evecs[:,0:3]), stim_cent.T) # project into PC space\n",
    "ax.scatter(project[0], project[1], project[2], c=np.repeat(np.arange(1,5), len(stim_inds)));\n",
    "ax.set(xlabel='PC1', ylabel='PC2', zlabel='PC3', title='colored by stim order');\n",
    "plt.show()"
   ]
  },
  {
   "cell_type": "code",
   "execution_count": null,
   "id": "1e0bd6e2-f1a8-4f39-b4b9-e29a5a1576a4",
   "metadata": {
    "tags": []
   },
   "outputs": [],
   "source": [
    "silhouette_score(\n",
    "    X=full_stim_dm,\n",
    "    labels=np.repeat(np.arange(2,6), len(stim_inds)))"
   ]
  },
  {
   "cell_type": "code",
   "execution_count": null,
   "id": "87c27ee6-8964-4e77-9c3b-19994eaa5ce9",
   "metadata": {},
   "outputs": [],
   "source": []
  },
  {
   "cell_type": "code",
   "execution_count": null,
   "id": "47788111-dd17-4021-8395-b0e11dbb5914",
   "metadata": {},
   "outputs": [],
   "source": []
  },
  {
   "cell_type": "markdown",
   "id": "981d544c-13c7-491c-af64-a6089cc11897",
   "metadata": {
    "jp-MarkdownHeadingCollapsed": true,
    "tags": []
   },
   "source": [
    "## separate DM for each state"
   ]
  },
  {
   "cell_type": "code",
   "execution_count": null,
   "id": "e48dd3ec-9b4e-47a3-9a3d-320eb7b9da84",
   "metadata": {
    "tags": []
   },
   "outputs": [],
   "source": [
    "# stim presentation ids for active vs passive\n",
    "state1_stims = trial_df.index[trial_df.active] #active\n",
    "state2_stims = trial_df.index[~trial_df.active] #passive"
   ]
  },
  {
   "cell_type": "code",
   "execution_count": null,
   "id": "1b7bd3c4-5624-4897-9913-9ff4009e7f6f",
   "metadata": {
    "tags": []
   },
   "outputs": [],
   "source": [
    "counts_df['trials_id'] = trial_df.trials_id\n",
    "state1_dm = get_dm(counts_df, state1_stims)\n",
    "state2_dm = get_dm(counts_df, state2_stims)"
   ]
  },
  {
   "cell_type": "code",
   "execution_count": null,
   "id": "2d85c6f3-b877-44a6-81ae-b83c286732a8",
   "metadata": {
    "tags": []
   },
   "outputs": [],
   "source": [
    "state1_dm.shape"
   ]
  },
  {
   "cell_type": "code",
   "execution_count": null,
   "id": "71a84256-af79-4771-ac6c-a6a1d0c49010",
   "metadata": {
    "tags": []
   },
   "outputs": [],
   "source": [
    "np.cov(state1_dm).shape"
   ]
  },
  {
   "cell_type": "code",
   "execution_count": null,
   "id": "d82f93a9-97f6-47d3-be47-8ce92808ec33",
   "metadata": {
    "tags": []
   },
   "outputs": [],
   "source": [
    "evals1, evecs1 = do_pca(state1_dm.T)\n",
    "evals2, evecs2 = do_pca(state2_dm.T)"
   ]
  },
  {
   "cell_type": "markdown",
   "id": "e2f533b7-5b79-4b32-bb13-16f0524304f6",
   "metadata": {},
   "source": [
    "### participation ratio\n",
    "\"effective dimensionality\""
   ]
  },
  {
   "cell_type": "code",
   "execution_count": null,
   "id": "bf1ab60b-3c51-4f9e-8618-241a9d17cabc",
   "metadata": {
    "tags": []
   },
   "outputs": [],
   "source": [
    "participation_ratio(evals1)"
   ]
  },
  {
   "cell_type": "code",
   "execution_count": null,
   "id": "0435b69a-f009-4dff-ab82-bcd97b5149b5",
   "metadata": {
    "tags": []
   },
   "outputs": [],
   "source": [
    "participation_ratio(evals2)"
   ]
  },
  {
   "cell_type": "markdown",
   "id": "70d780c0-4321-46c1-956a-427254477f04",
   "metadata": {
    "jp-MarkdownHeadingCollapsed": true,
    "tags": []
   },
   "source": [
    "### plots"
   ]
  },
  {
   "cell_type": "code",
   "execution_count": null,
   "id": "9bb6deef-d7ea-47d0-bc16-e2d7592c09c8",
   "metadata": {
    "tags": []
   },
   "outputs": [],
   "source": [
    "# variance explained\n",
    "%matplotlib inline\n",
    "plt.plot(evals1)\n",
    "plt.plot(evals2)\n",
    "plt.xlim((-.5,20));\n",
    "plt.show()"
   ]
  },
  {
   "cell_type": "code",
   "execution_count": null,
   "id": "818b005d-1b08-40a3-a654-3b30482f7023",
   "metadata": {
    "tags": []
   },
   "outputs": [],
   "source": [
    "# variance explained curves (cumulative)\n",
    "frac_expl1 = np.cumsum(evals1)/np.sum(evals1)\n",
    "frac_expl2 = np.cumsum(evals2)/np.sum(evals2)\n",
    "\n",
    "%matplotlib inline\n",
    "plt.plot(frac_expl1)\n",
    "plt.plot(frac_expl2)\n",
    "plt.xlabel('Number of PCs')\n",
    "plt.ylabel('Fraction of Variance Explained')\n",
    "# plt.xlim((-1,80));\n",
    "plt.show()"
   ]
  },
  {
   "cell_type": "code",
   "execution_count": null,
   "id": "6c57d94b-02a2-4fd8-a0a7-fa31a9367541",
   "metadata": {
    "tags": []
   },
   "outputs": [],
   "source": [
    "frac = .90\n",
    "print(np.where(frac_expl1>frac)[0].min(), 'PCs needed for', frac*100, '% for active condition')\n",
    "print(np.where(frac_expl2>frac)[0].min(), 'PCs needed for', frac*100, '% for passive condition')"
   ]
  },
  {
   "cell_type": "code",
   "execution_count": null,
   "id": "2c15a3ec-a626-4799-ae9a-57a4f025cc94",
   "metadata": {
    "tags": []
   },
   "outputs": [],
   "source": [
    "# state 1 vs state 2 variance explained across all PCs\n",
    "%matplotlib inline\n",
    "plt.figure(figsize=(10,5))\n",
    "plt.plot(frac_expl2 - frac_expl1)\n",
    "plt.axhline(0, color='k', linestyle='--');\n",
    "plt.show()\n",
    "# plt.xlim((-.5,11));"
   ]
  },
  {
   "cell_type": "code",
   "execution_count": null,
   "id": "96da4353-6f29-4da7-bf77-a96e8e1d633d",
   "metadata": {
    "tags": []
   },
   "outputs": [],
   "source": [
    "%matplotlib inline\n",
    "f,ax = plt.subplots(3,1, figsize=(5,5))\n",
    "for PC in range(3):\n",
    "    ax[PC].plot(abs(evecs1[:,PC]))\n",
    "    ax[PC].plot(abs(evecs2[:,PC]))\n",
    "    ax[PC].set(ylabel=\"contribution\", title=PC);\n",
    "plt.tight_layout()\n",
    "plt.xlabel('unit')\n",
    "plt.show()"
   ]
  },
  {
   "cell_type": "code",
   "execution_count": null,
   "id": "90a49781-1307-4949-b816-8c0056eba245",
   "metadata": {
    "tags": []
   },
   "outputs": [],
   "source": [
    "# control/check: are high-weighted neurons also high-firing neurons?\n",
    "%matplotlib inline\n",
    "plt.scatter(spike_mat.mean(axis=0), abs(evecs1[:,1]), color='b')\n",
    "plt.scatter(spike_mat.mean(axis=0), abs(evecs2[:,1]), color='b', alpha=.25)\n",
    "plt.xlabel('mean FR')\n",
    "plt.ylabel('PC1 weight');"
   ]
  },
  {
   "cell_type": "code",
   "execution_count": null,
   "id": "5aae33ad-1707-4d87-bd57-7741faeba66a",
   "metadata": {
    "tags": []
   },
   "outputs": [],
   "source": [
    "%matplotlib widget"
   ]
  },
  {
   "cell_type": "code",
   "execution_count": null,
   "id": "2b99c32f-3c68-416f-9267-575d196fea2c",
   "metadata": {
    "tags": []
   },
   "outputs": [],
   "source": [
    "# get list of images in order of presentation\n",
    "\n",
    "stims = trial_df.loc[state1_stims].groupby('abs_trial_id').agg('max').image_int.values\n",
    "\n",
    "stims_img = trial_df.loc[state1_stims].groupby(['abs_trial_id', 'image_name']\n",
    "                                          ).agg('max').index.get_level_values(1).to_numpy()"
   ]
  },
  {
   "cell_type": "code",
   "execution_count": null,
   "id": "de0d9c5b-7b27-4193-a377-0a0d78713f2e",
   "metadata": {
    "tags": []
   },
   "outputs": [],
   "source": [
    "# mean-center the data\n",
    "state1_cent = state1_dm - state1_dm.mean()\n",
    "state2_cent = state2_dm - state2_dm.mean()\n",
    "\n",
    "# project into PC space\n",
    "project1 = np.dot(np.transpose(evecs1[:,0:3]), state1_cent.T)\n",
    "project2 = np.dot(np.transpose(evecs2[:,0:3]), state2_cent.T)"
   ]
  },
  {
   "cell_type": "code",
   "execution_count": null,
   "id": "19b35e8c-dd2d-4c5d-9d59-4b459c118afc",
   "metadata": {
    "tags": []
   },
   "outputs": [],
   "source": [
    "fig = plt.figure()\n",
    "ax = fig.add_subplot(projection='3d')\n",
    "ax.scatter(project1[0], project1[1], project1[2], c=stims);\n",
    "ax.set(xlabel='PC1', ylabel='PC2', zlabel='PC3', title='active; colored by stim');\n",
    "plt.show()"
   ]
  },
  {
   "cell_type": "code",
   "execution_count": null,
   "id": "aacd725c-44a5-411a-90e3-bc2971b5277a",
   "metadata": {
    "tags": []
   },
   "outputs": [],
   "source": [
    "fig = plt.figure()\n",
    "ax = fig.add_subplot(projection='3d')\n",
    "ax.scatter(project2[0], project2[1], project2[2], c=stims)\n",
    "ax.set(xlabel='PC1', ylabel='PC2', zlabel='PC3', title='passive; colored by stim');\n",
    "plt.show()"
   ]
  },
  {
   "cell_type": "code",
   "execution_count": null,
   "id": "a93dc4a9-f2b8-4701-afa2-b277e2b11f55",
   "metadata": {
    "tags": []
   },
   "outputs": [],
   "source": [
    "fig = plt.figure()\n",
    "ax = fig.add_subplot(projection='3d')\n",
    "ax.scatter(project1[0], project1[1], project1[2], c=np.arange(0,len(stims)));\n",
    "ax.set(xlabel='PC1', ylabel='PC2', zlabel='PC3', title='active; colored by trial number');\n",
    "plt.show()"
   ]
  },
  {
   "cell_type": "code",
   "execution_count": null,
   "id": "c78c71cf-17a6-4325-98a2-3fd08c98840c",
   "metadata": {
    "tags": []
   },
   "outputs": [],
   "source": [
    "fig = plt.figure()\n",
    "ax = fig.add_subplot(projection='3d')\n",
    "ax.scatter(project2[0], project2[1], project2[2], c=np.arange(0,len(stims)))\n",
    "ax.set(xlabel='PC1', ylabel='PC2', zlabel='PC3', title='passive; colored by trial number');\n",
    "plt.show()"
   ]
  },
  {
   "cell_type": "markdown",
   "id": "dd1ec7d3-2c32-47d8-9d7b-a6ea280f7f1c",
   "metadata": {
    "jp-MarkdownHeadingCollapsed": true,
    "tags": []
   },
   "source": [
    "## full DM"
   ]
  },
  {
   "cell_type": "code",
   "execution_count": null,
   "id": "396f6df3-fe3a-4c4a-8b06-1c3d596b52a5",
   "metadata": {
    "tags": []
   },
   "outputs": [],
   "source": [
    "full_dm = pd.concat([state1_dm, state2_dm])"
   ]
  },
  {
   "cell_type": "code",
   "execution_count": null,
   "id": "a44beaa5-424e-4708-a559-066ef5dc3a8b",
   "metadata": {
    "tags": []
   },
   "outputs": [],
   "source": [
    "evals_full, evecs_full = do_pca(full_dm.T)"
   ]
  },
  {
   "cell_type": "code",
   "execution_count": null,
   "id": "1556884e-83a0-4f6c-8e83-416abc361831",
   "metadata": {
    "tags": []
   },
   "outputs": [],
   "source": [
    "plt.figure()\n",
    "plt.plot(evals_full)\n",
    "plt.show()"
   ]
  },
  {
   "cell_type": "code",
   "execution_count": null,
   "id": "8cd3c1cd-70bf-4d8f-a346-a3b03046f7b4",
   "metadata": {
    "tags": []
   },
   "outputs": [],
   "source": [
    "plt.figure()\n",
    "plt.plot(np.cumsum(evals_full)/np.sum(evals_full));\n",
    "plt.show()"
   ]
  },
  {
   "cell_type": "code",
   "execution_count": null,
   "id": "3f507d36-ca24-4df4-88ba-98fe52bd1468",
   "metadata": {
    "tags": []
   },
   "outputs": [],
   "source": [
    "frac_expl_full = np.cumsum(evals_full)/np.sum(evals_full)"
   ]
  },
  {
   "cell_type": "code",
   "execution_count": null,
   "id": "01a79e43-c5bf-4cc4-9647-11587d0eab5a",
   "metadata": {
    "tags": []
   },
   "outputs": [],
   "source": [
    "print(np.where(frac_expl_full>frac)[0].min(), 'PCs needed for', frac*100, '% for full (active+passive)')"
   ]
  },
  {
   "cell_type": "code",
   "execution_count": null,
   "id": "58d935d2-12dd-4af5-b1cf-0d43e390b119",
   "metadata": {
    "tags": []
   },
   "outputs": [],
   "source": [
    "full_cent = full_dm - full_dm.mean()\n",
    "project_full = np.dot(np.transpose(evecs_full[:,0:3]), full_cent.T)"
   ]
  },
  {
   "cell_type": "code",
   "execution_count": null,
   "id": "e6722ec5-2a2c-4bc6-91cd-1442b5e2b5fe",
   "metadata": {
    "tags": []
   },
   "outputs": [],
   "source": [
    "fig = plt.figure()\n",
    "ax = fig.add_subplot(projection='3d')\n",
    "ax.scatter(project_full[0], project_full[1], project_full[2], c=list(stims)*2);\n",
    "ax.set(xlabel='PC1', ylabel='PC2', zlabel='PC3', title='full; colored by stim');\n",
    "plt.show()"
   ]
  },
  {
   "cell_type": "code",
   "execution_count": null,
   "id": "e81ed1d4-b0de-41b5-8c8b-dd86272056e6",
   "metadata": {
    "tags": []
   },
   "outputs": [],
   "source": [
    "fig = plt.figure()\n",
    "ax = fig.add_subplot(projection='3d')\n",
    "ax.scatter(project_full[0], project_full[1], project_full[2], c=full_dm.index);\n",
    "ax.set(xlabel='PC1', ylabel='PC2', zlabel='PC3', title='full; colored by time');\n",
    "plt.show()"
   ]
  },
  {
   "cell_type": "code",
   "execution_count": null,
   "id": "92a90aba-1fc0-4954-8908-a2e693fcb121",
   "metadata": {
    "tags": []
   },
   "outputs": [],
   "source": [
    "fig = plt.figure()\n",
    "ax = fig.add_subplot(projection='3d')\n",
    "ax.scatter(project_full[0], project_full[1], project_full[2], c=np.repeat([0,1], len(state1_stims) / 4));\n",
    "ax.set(xlabel='PC1', ylabel='PC2', zlabel='PC3', title='full; colored by state');\n",
    "plt.show()"
   ]
  },
  {
   "cell_type": "code",
   "execution_count": null,
   "id": "5719b48b-74a9-42c6-8adb-e87651794b79",
   "metadata": {},
   "outputs": [],
   "source": []
  },
  {
   "cell_type": "markdown",
   "id": "6cfe557c-c2ad-4294-b29a-a25cb4751d79",
   "metadata": {
    "jp-MarkdownHeadingCollapsed": true,
    "tags": []
   },
   "source": [
    "## dim metrics"
   ]
  },
  {
   "cell_type": "markdown",
   "id": "27669f3e-1089-440c-a072-2fa8829205b0",
   "metadata": {
    "tags": []
   },
   "source": [
    "### silhouette score\n",
    "+2 to stims bc something gets weird when 0 and 1 are included as classes; can use image names instead"
   ]
  },
  {
   "cell_type": "code",
   "execution_count": null,
   "id": "08d70f41-c6cc-4061-901d-6b160f02b3d2",
   "metadata": {
    "tags": []
   },
   "outputs": [],
   "source": [
    "silhouette_score(\n",
    "    X=state1_dm,\n",
    "    labels=stims_img)"
   ]
  },
  {
   "cell_type": "code",
   "execution_count": null,
   "id": "cce4fb33-dd31-4f48-b3b2-227effa4fbe8",
   "metadata": {
    "tags": []
   },
   "outputs": [],
   "source": [
    "silhouette_score(\n",
    "    X=state2_dm,\n",
    "    labels=stims_img)"
   ]
  },
  {
   "cell_type": "code",
   "execution_count": null,
   "id": "fcf3b0cd-bbb6-4136-af10-1f9e96aa050a",
   "metadata": {
    "tags": []
   },
   "outputs": [],
   "source": [
    "silhouette_score(\n",
    "    X=full_dm,\n",
    "    labels=all_stims+2)"
   ]
  },
  {
   "cell_type": "markdown",
   "id": "5d26135f-98ae-42a4-a92d-d37c6fdb240b",
   "metadata": {},
   "source": [
    "### decoding"
   ]
  },
  {
   "cell_type": "markdown",
   "id": "48737766-6d31-498e-8c3c-68446d61b567",
   "metadata": {},
   "source": [
    "kozleo\n",
    "\n",
    "\"For sample decoding experiments, we first smoothed trials (as above, with 10ms Gaussian kernel), and then took average rates per neuron in 50ms time bins and attempted to decode sample type from the population activity at each time point. For our classifier, we used a linear Support Vector Machine and standard regularization (C = 1 in SciKit Learn). For each session we used a 10-fold cross-validation to calculate decoding accuracy. (That is, we held out 10% of trials as a test set, and trained on the remaining 90% of the data. We did this for 10 non-overlapping test sets, and then took the average test accuracy). We performed a decoding analysis on each session separately, and then took the average and standard error across sessions for our result.\""
   ]
  },
  {
   "cell_type": "code",
   "execution_count": null,
   "id": "a5fbe0f2-601a-4921-99ae-79f943dbe4fe",
   "metadata": {
    "tags": []
   },
   "outputs": [],
   "source": [
    "from sklearn.model_selection import KFold\n",
    "from sklearn.svm import SVC"
   ]
  },
  {
   "cell_type": "code",
   "execution_count": null,
   "id": "d675af05-115f-456a-b8dc-1e58dfc9f8a6",
   "metadata": {},
   "outputs": [],
   "source": [
    "# ran for each timepoint"
   ]
  },
  {
   "cell_type": "code",
   "execution_count": null,
   "id": "c3dc8d68-de61-4bbc-8147-958f51336d87",
   "metadata": {
    "tags": []
   },
   "outputs": [],
   "source": [
    "def run_svc(y, X, svc_type=\"linear\", n_split=10, C=1):\n",
    "    \"\"\"\n",
    "        Train SVM classifier on data and return test accuracy.\n",
    "\n",
    "    Args:\n",
    "        y: (ndarray) Labels array with dims (samples,)\n",
    "        X: (ndarray) Covariates with dims (samples, features);\n",
    "            features are typically some function of neural data\n",
    "        svc_type: (str) Option for SVC type. Options are \"linear\" or \"rbf\".\n",
    "            Default is \"linear\".\n",
    "        n_split: (int) Number of splits for cross-validation. Default is 10.\n",
    "        C: (float) Regularization parameter for SVC. Default is 1.\n",
    "\n",
    "    Returns:\n",
    "        res_test: (float) Resulting test accuracy of trained classifier on test\n",
    "            data.\n",
    "    \"\"\"\n",
    "    kf = KFold(n_splits=n_split, shuffle=True, random_state=0)\n",
    "    kf.get_n_splits(X, y)\n",
    "    y_true = []\n",
    "    y_pred = []\n",
    "\n",
    "    for train_index, test_index in kf.split(X):\n",
    "        X_train, X_test = X[train_index], X[test_index]\n",
    "        y_train, y_test = y[train_index], y[test_index]\n",
    "        if svc_type == \"linear\":\n",
    "            clf = SVC(kernel=\"linear\", C=C)\n",
    "        if svc_type == \"rbf\":\n",
    "            clf = SVC(C=C)\n",
    "        clf.fit(X_train, y_train)\n",
    "        pred = clf.predict(X_test)\n",
    "\n",
    "        y_true.append(y_test)\n",
    "        y_pred.append(pred)\n",
    "\n",
    "    true = np.concatenate(y_true)\n",
    "    pred = np.concatenate(y_pred)\n",
    "\n",
    "    test_acc = (pred == true).sum() / true.size\n",
    "    return test_acc"
   ]
  },
  {
   "cell_type": "code",
   "execution_count": null,
   "id": "72e8e4a1-870a-4c1e-bba5-1b28bec94f6d",
   "metadata": {
    "tags": []
   },
   "outputs": [],
   "source": [
    "all_stims = trial_df.groupby('abs_trial_id').agg('max').image_int.values\n",
    "\n",
    "print('decoding stim:')\n",
    "run_svc(\n",
    "    X=full_dm.to_numpy(),\n",
    "    y=all_stims+2)"
   ]
  },
  {
   "cell_type": "code",
   "execution_count": null,
   "id": "59b4a5b5-8608-48ee-9606-2402c58cfe60",
   "metadata": {
    "tags": []
   },
   "outputs": [],
   "source": [
    "states = trial_df.active.values*1\n",
    "states[states] = 2\n",
    "states[~states] = 3\n",
    "\n",
    "print('decoding state:')\n",
    "run_svc(\n",
    "    X=full_dm.to_numpy(),\n",
    "    y=states)"
   ]
  },
  {
   "cell_type": "code",
   "execution_count": null,
   "id": "88e84200-f9b2-4630-8faf-7c52fbbb35bf",
   "metadata": {
    "tags": []
   },
   "outputs": [],
   "source": [
    "coded_trials = np.zeros_like(full_dm.index.values)\n",
    "for t in reversed(range(0, int(np.ceil(len(trials)/100)))):\n",
    "    cap = t*100+100\n",
    "    coded_trials[trials<=cap] = cap\n",
    "print('decoding time (blocks of 100 trials):')\n",
    "run_svc(\n",
    "    X=full_dm.to_numpy(),\n",
    "    y=coded_trials)"
   ]
  },
  {
   "cell_type": "code",
   "execution_count": null,
   "id": "d78d433d-f09b-4b1f-8aa9-c14e6b2d32ba",
   "metadata": {},
   "outputs": [],
   "source": []
  },
  {
   "cell_type": "code",
   "execution_count": null,
   "id": "869a93c7-5863-4fb2-92de-d3c8da1afdbb",
   "metadata": {},
   "outputs": [],
   "source": []
  },
  {
   "cell_type": "code",
   "execution_count": null,
   "id": "5d6a8e5f-dc5a-433b-94b7-8f21358d80f8",
   "metadata": {},
   "outputs": [],
   "source": []
  },
  {
   "cell_type": "markdown",
   "id": "6d3cfaa1-7013-4c88-be1f-abd4a6511e7c",
   "metadata": {},
   "source": [
    "### other"
   ]
  },
  {
   "cell_type": "code",
   "execution_count": null,
   "id": "ab8abaef-05fd-4ff7-8971-ea0081c0f7df",
   "metadata": {
    "tags": []
   },
   "outputs": [],
   "source": [
    "# visualize how many trials we're actually using\n",
    "all_stims = session.stimulus_presentations\n",
    "all_stims['analyzed'] = 0\n",
    "all_stims.loc[trial_df.index, 'analyzed'] = 1\n",
    "plt.figure(figsize=(20,2))\n",
    "plt.plot(all_stims.analyzed);"
   ]
  },
  {
   "cell_type": "code",
   "execution_count": null,
   "id": "31e7583a-cf80-49df-8ff5-ba8e9729b8db",
   "metadata": {},
   "outputs": [],
   "source": []
  },
  {
   "cell_type": "markdown",
   "id": "3eacdb8a-d8f7-4323-bc4c-c27b0b72ba8c",
   "metadata": {},
   "source": [
    "ideas\n",
    "- run on gray screens instead of stim windows\n",
    "- run stim 1 vs stim 2 vs stim 3 vs stim 4\n",
    "- project passive onto active PC space + vice versa\n",
    "- UMAP\n",
    "\n",
    "noise corr stuff says decodeability might not change but direction of noise fluctuations is changing"
   ]
  },
  {
   "cell_type": "code",
   "execution_count": null,
   "id": "48fd476e-8774-45f7-8e36-72962489c78b",
   "metadata": {},
   "outputs": [],
   "source": []
  },
  {
   "cell_type": "code",
   "execution_count": null,
   "id": "c8b89156-21ae-4542-a738-6c522ff9f310",
   "metadata": {},
   "outputs": [],
   "source": []
  },
  {
   "cell_type": "code",
   "execution_count": null,
   "id": "ba64cd7d-1d40-4471-97de-b94685025671",
   "metadata": {},
   "outputs": [],
   "source": []
  },
  {
   "cell_type": "code",
   "execution_count": null,
   "id": "24702f39-c80a-40bf-9388-4c6d88918157",
   "metadata": {
    "tags": []
   },
   "outputs": [],
   "source": [
    "import xarray as xr\n",
    "xr.DataArray(\n",
    "    data = spike_mat,\n",
    "    dims = ('trial_num', 'unit')\n",
    ")"
   ]
  },
  {
   "cell_type": "code",
   "execution_count": null,
   "id": "4e1a3df3-3bb3-410f-ad61-212c15f0549f",
   "metadata": {
    "tags": []
   },
   "outputs": [],
   "source": []
  },
  {
   "cell_type": "code",
   "execution_count": null,
   "id": "4754e476-0336-4bc0-90f8-db195b0fac6b",
   "metadata": {},
   "outputs": [],
   "source": []
  },
  {
   "cell_type": "code",
   "execution_count": null,
   "id": "660b92d1-ffe5-46b7-ad72-a34d14cf6b83",
   "metadata": {},
   "outputs": [],
   "source": []
  },
  {
   "cell_type": "code",
   "execution_count": null,
   "id": "2937735c-b8e1-4695-99db-3459c5cc2dba",
   "metadata": {
    "tags": []
   },
   "outputs": [],
   "source": [
    "import matplotlib.pyplot as plt\n",
    "%matplotlib inline"
   ]
  },
  {
   "cell_type": "code",
   "execution_count": null,
   "id": "6185c289-fb16-40c1-86cc-97b67a5eb0b9",
   "metadata": {
    "tags": []
   },
   "outputs": [],
   "source": [
    "stimulus_presentations = session.stimulus_presentations\n",
    "change_times = stimulus_presentations[stimulus_presentations['active']&\n",
    "                            stimulus_presentations['is_change']]['start_time'].values"
   ]
  },
  {
   "cell_type": "code",
   "execution_count": null,
   "id": "2df54fc3-384a-4e16-9328-393786331180",
   "metadata": {
    "tags": []
   },
   "outputs": [],
   "source": [
    "#first let's sort our units by depth\n",
    "unit_channels = unit_channels.sort_values('probe_vertical_position', ascending=False)\n",
    "\n",
    "#now we'll filter them\n",
    "good_unit_filter = ((unit_channels['snr']>1)&\n",
    "                    (unit_channels['isi_violations']<1)&\n",
    "                    (unit_channels['firing_rate']>0.1))\n",
    "\n",
    "good_units = unit_channels.loc[good_unit_filter]\n",
    "spike_times = session.spike_times"
   ]
  },
  {
   "cell_type": "code",
   "execution_count": null,
   "id": "2bd1afb0-04bd-4a16-8f3b-5303ce1097b0",
   "metadata": {
    "tags": []
   },
   "outputs": [],
   "source": [
    "#Convenience function to compute the PSTH\n",
    "def makePSTH(spikes, startTimes, windowDur, binSize=0.001):\n",
    "    bins = np.arange(0,windowDur+binSize,binSize)\n",
    "    counts = np.zeros(bins.size-1)\n",
    "    for i,start in enumerate(startTimes):\n",
    "        startInd = np.searchsorted(spikes, start)\n",
    "        endInd = np.searchsorted(spikes, start+windowDur)\n",
    "        counts = counts + np.histogram(spikes[startInd:endInd]-start, bins)[0]\n",
    "\n",
    "    counts = counts/startTimes.size\n",
    "    return counts/binSize, bins"
   ]
  },
  {
   "cell_type": "code",
   "execution_count": null,
   "id": "425aa8c7-33b2-4acf-b1dc-1d5ba5d14a80",
   "metadata": {
    "tags": []
   },
   "outputs": [],
   "source": [
    "#Here's where we loop through the units in our area of interest and compute their PSTHs\n",
    "area_of_interest = 'VISp'\n",
    "area_change_responses = []\n",
    "area_units = good_units[good_units['structure_acronym']==area_of_interest]\n",
    "time_before_change = 1\n",
    "duration = 2.5\n",
    "for iu, unit in area_units.iterrows():\n",
    "    unit_spike_times = spike_times[iu]\n",
    "    unit_change_response, bins = makePSTH(unit_spike_times,\n",
    "                                          change_times-time_before_change,\n",
    "                                          duration, binSize=0.01)\n",
    "    area_change_responses.append(unit_change_response)\n",
    "area_change_responses = np.array(area_change_responses)"
   ]
  },
  {
   "cell_type": "code",
   "execution_count": null,
   "id": "ebf706cf-aa5f-4d04-b10e-81740b8916f7",
   "metadata": {
    "tags": []
   },
   "outputs": [],
   "source": [
    "#Plot the results\n",
    "fig, ax = plt.subplots(1,2)\n",
    "fig.set_size_inches([12,4])\n",
    "\n",
    "clims = [np.percentile(area_change_responses, p) for p in (0.1,99.9)]\n",
    "im = ax[0].imshow(area_change_responses, clim=clims)\n",
    "ax[0].set_title('Active Change Responses for {}'.format(area_of_interest))\n",
    "ax[0].set_ylabel('Unit number, sorted by depth')\n",
    "ax[0].set_xlabel('Time from change (s)')\n",
    "ax[0].set_xticks(np.arange(0, bins.size-1, 20))\n",
    "_ = ax[0].set_xticklabels(np.round(bins[:-1:20]-time_before_change, 2))\n",
    "\n",
    "ax[1].plot(bins[:-1]-time_before_change, np.mean(area_change_responses, axis=0), 'k')\n",
    "ax[1].set_title('{} population active change response (n={})'\\\n",
    "                .format(area_of_interest, area_change_responses.shape[0]))\n",
    "ax[1].set_xlabel('Time from change (s)')\n",
    "ax[1].set_ylabel('Firing Rate')"
   ]
  },
  {
   "cell_type": "markdown",
   "id": "898d3245-93e4-484b-b59b-53960580c558",
   "metadata": {
    "jp-MarkdownHeadingCollapsed": true,
    "tags": []
   },
   "source": [
    "# old code"
   ]
  },
  {
   "cell_type": "markdown",
   "id": "5aa308f5-1d55-4277-9639-5717d58106c2",
   "metadata": {
    "tags": []
   },
   "source": [
    "## setup"
   ]
  },
  {
   "cell_type": "markdown",
   "id": "1a4a5e90-e689-4f9c-9dd1-d8cae18ee863",
   "metadata": {
    "tags": []
   },
   "source": [
    "    git status\n",
    "    git pull origin main\n",
    "    git push origin chloe"
   ]
  },
  {
   "cell_type": "code",
   "execution_count": null,
   "id": "4032b277-ace8-41bb-9868-43ea2e430743",
   "metadata": {
    "tags": []
   },
   "outputs": [],
   "source": [
    "import os\n",
    "import numpy as np\n",
    "import matplotlib.pyplot as plt\n",
    "%matplotlib inline\n",
    "import seaborn as sns\n",
    "import pandas as pd\n",
    "pd.set_option('display.max_columns', None)\n",
    "\n",
    "from data.load_data import *"
   ]
  },
  {
   "cell_type": "code",
   "execution_count": null,
   "id": "5df3b7d2-65be-41c1-a3ac-beb64185f095",
   "metadata": {
    "tags": []
   },
   "outputs": [],
   "source": [
    "cache = load_cache_behavior_neuropixel()"
   ]
  },
  {
   "cell_type": "markdown",
   "id": "d36d391d-3f25-48d1-a1a1-0d28a41ab470",
   "metadata": {},
   "source": [
    "__vbn precomputed tables__: \n",
    "\n",
    "Inside, you will find a few units tables with precomputed metrics that might save you some time. For example, in the master_units table, there's a column called 'structure_acronym_with_layer' that includes the CCF layer assignment for all cortical units. The 'unit_id' column in this table is the same ID as the index of the units table you get back from the SDK.\n",
    "\n",
    "^^ not sure how to laod"
   ]
  },
  {
   "cell_type": "markdown",
   "id": "e459e3bd-c918-4510-a68c-81520d5f9f1a",
   "metadata": {},
   "source": [
    "### `session` data\n",
    "`session.trials` : raw; stim info; start and stop times, image IDs, licks, outcome; 'trial'=stim\n",
    "\n",
    "`behavior_data` : constructed from `session.running_speed.timestamps`, `session.running_speed.speed`, `session.eye_tracking.timestamps`, `session.eye_tracking.pupil_area`"
   ]
  },
  {
   "cell_type": "code",
   "execution_count": null,
   "id": "4ff9631f-b802-4450-ac88-63548c3e8528",
   "metadata": {
    "tags": []
   },
   "outputs": [],
   "source": [
    "example_sessions = [1139846596,  1124507277, 1069461581 ]\n",
    "session_id = example_sessions[0]"
   ]
  },
  {
   "cell_type": "code",
   "execution_count": null,
   "id": "4b9aa083-4887-4eff-bc4f-d7a2f8f66846",
   "metadata": {
    "tags": []
   },
   "outputs": [],
   "source": [
    "# session is the variable that has all the data we need\n",
    "session = cache.get_ecephys_session(session_id)"
   ]
  },
  {
   "cell_type": "markdown",
   "id": "308397e9-814e-446e-ae0f-829779e08168",
   "metadata": {
    "tags": []
   },
   "source": [
    "## stim"
   ]
  },
  {
   "cell_type": "code",
   "execution_count": null,
   "id": "4cae1a1e-25a8-424e-9cab-050e7cf25a1e",
   "metadata": {
    "tags": []
   },
   "outputs": [],
   "source": [
    "stim_df = session.stimulus_presentations\n",
    "pres_df = stim_df.loc[(stim_df.stimulus_block==0)|(stim_df.stimulus_block==5)]\n",
    "change_inds = pres_df.loc[pres_df.is_change==True].index"
   ]
  },
  {
   "cell_type": "code",
   "execution_count": null,
   "id": "25f4491a-761c-44c2-ba44-979281920a31",
   "metadata": {
    "tags": []
   },
   "outputs": [],
   "source": [
    "change_inds"
   ]
  },
  {
   "cell_type": "code",
   "execution_count": null,
   "id": "805825a2-8ef6-48a4-b248-16d1288f7e7d",
   "metadata": {
    "tags": []
   },
   "outputs": [],
   "source": [
    "images = sorted( pres_df.image_name.unique() )\n",
    "\n",
    "image_to_int = dict()\n",
    "for i, image in enumerate(images):\n",
    "    if image=='omitted':\n",
    "        image_to_int[image] = -10\n",
    "    else:\n",
    "        image_to_int[image] = i\n",
    "\n",
    "pres_df['image_int'] = pres_df.image_name.apply( lambda img: image_to_int[img] )\n",
    "\n",
    "pres_df.head()"
   ]
  },
  {
   "cell_type": "code",
   "execution_count": null,
   "id": "57dbd595-e9c9-444c-845e-111ca66cd2e2",
   "metadata": {
    "tags": []
   },
   "outputs": [],
   "source": [
    "# get indices of last 4 images before change\n",
    "trials = np.zeros((len(change_inds), 4))\n",
    "for trial,ind in enumerate(change_inds):\n",
    "    trials[trial,:] = np.arange(ind-4,ind)"
   ]
  },
  {
   "cell_type": "code",
   "execution_count": null,
   "id": "6dec3498-9b5b-4e78-86f0-b139b741ac8c",
   "metadata": {
    "tags": []
   },
   "outputs": [],
   "source": [
    "trials"
   ]
  },
  {
   "cell_type": "code",
   "execution_count": null,
   "id": "fb07b4c1-6a3f-44e6-9a79-63d0f23bd98e",
   "metadata": {
    "tags": []
   },
   "outputs": [],
   "source": [
    "# remove cases where 1 of the 4 stims was removed\n",
    "trials_to_keep = []\n",
    "for trial in trials:\n",
    "    if pres_df.loc[trial].omitted.sum() == 0: #if no stims omitted\n",
    "        trials_to_keep.append(trial)\n",
    "\n",
    "trial_inds_arr = np.vstack(trials_to_keep)\n",
    "trial_inds_vec = np.concatenate(trials_to_keep)"
   ]
  },
  {
   "cell_type": "code",
   "execution_count": null,
   "id": "f23b2429-aeb3-4873-8922-0d1f1ff9b0b4",
   "metadata": {
    "tags": []
   },
   "outputs": [],
   "source": [
    "pres_df.loc[trial_inds_vec]"
   ]
  },
  {
   "cell_type": "code",
   "execution_count": null,
   "id": "441c51cc-78ed-4c6f-98f7-60c3be755642",
   "metadata": {
    "tags": []
   },
   "outputs": [],
   "source": [
    "df = pres_df.loc[trial_inds_vec].filter([\n",
    "    'active', \n",
    "    'trials_id',\n",
    "    'start_time',\n",
    "    'end_time',\n",
    "    'image_int',\n",
    "    'image_name'\n",
    "])"
   ]
  },
  {
   "cell_type": "code",
   "execution_count": null,
   "id": "8c0ebd9c-dee4-4c87-8d4e-cb25faef2e89",
   "metadata": {
    "tags": []
   },
   "outputs": [],
   "source": [
    "df.loc[df.active==True]"
   ]
  },
  {
   "cell_type": "code",
   "execution_count": null,
   "id": "cf72b3d5-b469-4706-b1b2-f1dd205b7028",
   "metadata": {
    "tags": []
   },
   "outputs": [],
   "source": [
    "df.loc[df.active==False]"
   ]
  },
  {
   "cell_type": "markdown",
   "id": "4e39ec35-fb9b-4f96-974b-2e26af0469d2",
   "metadata": {},
   "source": [
    "## behavior"
   ]
  },
  {
   "cell_type": "code",
   "execution_count": null,
   "id": "7061b184-3724-44aa-b192-8322be9842e6",
   "metadata": {
    "tags": []
   },
   "outputs": [],
   "source": [
    "def make_behavior_table(session, df):\n",
    "    '''\n",
    "    Input session and stim/pres df with selected trials to analyze (4 before change)\n",
    "    '''\n",
    "    \n",
    "    # Get timestamps corresponding to go trials\n",
    "    trial_start = df.start_time\n",
    "    trial_stop = df.end_time\n",
    "\n",
    "    # Get running speed and corresponding timestamps\n",
    "    running_time = session.running_speed.timestamps\n",
    "    running_speed = session.running_speed.speed\n",
    "    mean_speed = [np.nanmean(running_speed[np.logical_and(s1 <= running_time, running_time <= s2)]) for s1, s2 in zip(trial_start, trial_stop)]\n",
    "\n",
    "    # Get pupil size and corresponding timestamps\n",
    "    pupil_time = session.eye_tracking.timestamps\n",
    "    pupil_area = session.eye_tracking.pupil_area\n",
    "    mean_pupil_area = [np.nanmean(pupil_area[np.logical_and(s1 <= pupil_time, pupil_time <= s2)]) for s1, s2 in zip(trial_start, trial_stop)]\n",
    "    # impute missing values\n",
    "    inds = np.where(np.isnan(mean_pupil_area))[0]\n",
    "    for i in inds:\n",
    "        mean_pupil_area[i] = np.nanmean(mean_pupil_area[i-1:i+1])\n",
    "\n",
    "    # Get lick counts\n",
    "    # lick_count = session.trials.apply(lambda row : len(row['lick_times']), axis = 1)\n",
    "\n",
    "    # Calculate hit rate\n",
    "    # hit_rate = session.trials.hit.rolling(10).mean().values\n",
    "    # hit_rate[:9] = 0 #otherwise these will be nans\n",
    "\n",
    "    # Construct a dataframe\n",
    "    behavior_data = pd.DataFrame({\n",
    "                'Mean speed': mean_speed, \n",
    "                'Mean pupil area': mean_pupil_area})\n",
    "    \n",
    "    return behavior_data"
   ]
  },
  {
   "cell_type": "code",
   "execution_count": null,
   "id": "ee36e5cb-bc83-460d-850a-d8016ca5fff4",
   "metadata": {
    "tags": []
   },
   "outputs": [],
   "source": [
    "behavior_data = make_behavior_table(session, df)"
   ]
  },
  {
   "cell_type": "code",
   "execution_count": null,
   "id": "4db04fd0-14ad-4f22-b6b0-42594876df7e",
   "metadata": {
    "tags": []
   },
   "outputs": [],
   "source": [
    "behavior_data"
   ]
  },
  {
   "cell_type": "code",
   "execution_count": null,
   "id": "ed3c18b0-33c3-46fe-b705-266a8da6b71f",
   "metadata": {
    "tags": []
   },
   "outputs": [],
   "source": [
    "plt.figure(figsize=(15,5))\n",
    "plt.plot(behavior_data['Mean speed'])"
   ]
  },
  {
   "cell_type": "code",
   "execution_count": null,
   "id": "5d15727b-8c9a-43b7-b4f9-de857fe0ae3e",
   "metadata": {
    "tags": []
   },
   "outputs": [],
   "source": [
    "plt.figure(figsize=(15,5))\n",
    "plt.plot(session.running_speed.speed)"
   ]
  },
  {
   "cell_type": "code",
   "execution_count": null,
   "id": "4461deb4-cf3a-417d-8ab0-1af45e77a3ad",
   "metadata": {
    "tags": []
   },
   "outputs": [],
   "source": [
    "behavior_data = make_behavior_table(session)\n",
    "print(behavior_data.isnull().values.any())\n",
    "behavior_data.head(1)"
   ]
  },
  {
   "cell_type": "code",
   "execution_count": null,
   "id": "ae0a224a-0b26-43a1-bc8b-445ad0a463c1",
   "metadata": {
    "tags": []
   },
   "outputs": [],
   "source": [
    "session.trials.head(1)"
   ]
  },
  {
   "cell_type": "code",
   "execution_count": null,
   "id": "addefe08-0ced-4f97-b1d5-586826e4f67f",
   "metadata": {},
   "outputs": [],
   "source": []
  }
 ],
 "metadata": {
  "kernelspec": {
   "display_name": "Python 3 (ipykernel)",
   "language": "python",
   "name": "python3"
  },
  "language_info": {
   "codemirror_mode": {
    "name": "ipython",
    "version": 3
   },
   "file_extension": ".py",
   "mimetype": "text/x-python",
   "name": "python",
   "nbconvert_exporter": "python",
   "pygments_lexer": "ipython3",
   "version": "3.9.12"
  }
 },
 "nbformat": 4,
 "nbformat_minor": 5
}
