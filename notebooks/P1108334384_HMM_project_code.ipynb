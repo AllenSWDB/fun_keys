{
 "cells": [
  {
   "cell_type": "code",
   "execution_count": 2,
   "id": "f46ab799-da16-4087-94da-8d101f7481b8",
   "metadata": {
    "tags": []
   },
   "outputs": [],
   "source": [
    "import pandas as pd\n",
    "import numpy as np\n",
    "import scipy as scipy\n",
    "import matplotlib.pyplot as plt\n",
    "%matplotlib inline\n",
    "from data.load_data import *\n",
    "from sklearn.preprocessing import StandardScaler\n",
    "import tensorflow_probability.substrates.jax.distributions as tfd\n",
    "from dynamax.utils.utils import find_permutation\n",
    "import seaborn as sns"
   ]
  },
  {
   "cell_type": "code",
   "execution_count": 3,
   "id": "42e03e3d-d621-40ea-98f7-1858ed86b47b",
   "metadata": {
    "tags": []
   },
   "outputs": [],
   "source": [
    "cache = load_cache_behavior_neuropixel()"
   ]
  },
  {
   "cell_type": "code",
   "execution_count": 4,
   "id": "d1fd2f47-3c96-4dec-a0f9-9f91969ebb94",
   "metadata": {
    "tags": []
   },
   "outputs": [],
   "source": [
    "ecephys_sessions_table = cache.get_ecephys_session_table()\n",
    "#example_session=ecephys_sessions_table.behavior_session_id[0:10].values.tolist()\n",
    "# example_sessions=ecephys_sessions_table.index.values.tolist()\n",
    "# len(example_sessions)"
   ]
  },
  {
   "cell_type": "code",
   "execution_count": 5,
   "id": "f5e3402b-df01-4a1c-9bc5-69c2921329e8",
   "metadata": {
    "tags": []
   },
   "outputs": [
    {
     "name": "stderr",
     "output_type": "stream",
     "text": [
      "/root/capsule/code/data/load_data.py:77: SettingWithCopyWarning: \n",
      "A value is trying to be set on a copy of a slice from a DataFrame.\n",
      "Try using .loc[row_indexer,col_indexer] = value instead\n",
      "\n",
      "See the caveats in the documentation: https://pandas.pydata.org/pandas-docs/stable/user_guide/indexing.html#returning-a-view-versus-a-copy\n",
      "  pres_df['image_int'] = pres_df.image_name.apply( lambda img: image_to_int[img] )\n"
     ]
    },
    {
     "name": "stdout",
     "output_type": "stream",
     "text": [
      "1108334384\n"
     ]
    }
   ],
   "source": [
    "#making a list of sessions - selected for good range of unit locations and of behavior\n",
    "example_sessions = [1053925378, 1081090969, 1064415305, 1108334384, 1115356973]\n",
    "#choosing a session id and coding it as the variable session_id\n",
    "session_id = example_sessions[3]\n",
    "\n",
    "#get the info for this session\n",
    "session = cache.get_ecephys_session(session_id)\n",
    "# fun_key function to get the stimulus presentations we're interested in\n",
    "trial_df = get_trial_df(session)\n",
    "# extract behavioral variables for the trials we're interested in\n",
    "behavior = make_behavior_table_active(session,trial_df)\n",
    "#see what the behavior table looks like\n",
    "print(session_id)\n"
   ]
  },
  {
   "cell_type": "code",
   "execution_count": 6,
   "id": "f87014ea-fecc-4784-9648-3c361168fe42",
   "metadata": {
    "tags": []
   },
   "outputs": [
    {
     "name": "stderr",
     "output_type": "stream",
     "text": [
      "/root/capsule/code/data/load_data.py:128: RuntimeWarning: Mean of empty slice\n",
      "  mean_pupil_area = [np.nanmean(pupil_area[np.logical_and(s1 <= pupil_time, pupil_time <= s2)]) for s1, s2 in zip(trial_start, trial_stop)]\n"
     ]
    }
   ],
   "source": [
    "#get continuous behavioral varaibles for each stim presentation\n",
    "behavByStim = make_behavior_table_byStim(session,trial_df)\n",
    "#get trial-related behavioral variables for each trial\n",
    "behavior['Trials id']=behavior.index\n",
    "#combine both of the above, to get full data for each stim presentation\n",
    "fullData = pd.merge(behavByStim,behavior[['Trials id','Lick count','Rolling mean hit rate','Hit/miss this trial']],how='left',on='Trials id')\n",
    "fullData.loc[fullData.Active==False,['Lick count','Rolling mean hit rate','Hit/miss this trial']]=np.nan\n",
    "#convert to full data for each trial\n",
    "trialData=fullData.groupby(np.arange(len(fullData))//4).mean()\n",
    "# trialInds=trialData.index #will need these inds if doing HMM on full session"
   ]
  },
  {
   "cell_type": "code",
   "execution_count": 7,
   "id": "2c3ff424-88e5-4edc-8250-e05c5e5801d6",
   "metadata": {
    "tags": []
   },
   "outputs": [
    {
     "data": {
      "text/plain": [
       "(518, 9)"
      ]
     },
     "execution_count": 7,
     "metadata": {},
     "output_type": "execute_result"
    }
   ],
   "source": [
    "#get smoothed versions of the continuous variables because they are noisy\n",
    "trialData['Smoothed speed']=trialData['Mean speed'].rolling(5).mean()\n",
    "trialData['Smoothed pupil']=trialData['Mean pupil area'].rolling(5).mean()\n",
    "trialData.head(6) #now the first n-5 are NaN, where N is the rolling window set above\n",
    "trialData.shape"
   ]
  },
  {
   "cell_type": "code",
   "execution_count": 8,
   "id": "28220691-02d1-45ec-ab51-5fe4123ce09b",
   "metadata": {
    "tags": []
   },
   "outputs": [
    {
     "name": "stdout",
     "output_type": "stream",
     "text": [
      "   Active  Trials id  Mean speed  Mean pupil area  Lick count  \\\n",
      "0     1.0        0.0   27.849596      1836.355303         NaN   \n",
      "1     1.0        1.0   15.311547      2070.439868         NaN   \n",
      "2     1.0        7.0   22.696524      1854.970819         NaN   \n",
      "3     1.0        9.0   21.475847      1684.506744         0.0   \n",
      "4     1.0       10.0   34.712497      1609.350819        12.0   \n",
      "5     1.0       11.0   34.424345      2050.044803        12.0   \n",
      "\n",
      "   Rolling mean hit rate  Hit/miss this trial  Smoothed speed  Smoothed pupil  \n",
      "0                    NaN                  NaN             NaN             NaN  \n",
      "1                    NaN                  NaN             NaN             NaN  \n",
      "2                    NaN                  NaN             NaN             NaN  \n",
      "3                    NaN                  0.0             NaN             NaN  \n",
      "4                    NaN                  1.0       24.409202     1811.124711  \n",
      "5                    NaN                  1.0       25.724152     1853.862611  \n",
      "   Active  Trials id  Mean speed  Mean pupil area  Lick count  \\\n",
      "0     1.0        0.0   27.849596      1836.355303         NaN   \n",
      "1     1.0        1.0   15.311547      2070.439868         NaN   \n",
      "2     1.0        7.0   22.696524      1854.970819         NaN   \n",
      "3     1.0        9.0   21.475847      1684.506744         0.0   \n",
      "4     1.0       10.0   34.712497      1609.350819        12.0   \n",
      "5     1.0       11.0   34.424345      2050.044803        12.0   \n",
      "\n",
      "   Rolling mean hit rate  Hit/miss this trial  Smoothed speed  Smoothed pupil  \n",
      "0                    NaN                  NaN             NaN             NaN  \n",
      "1                    NaN                  NaN             NaN             NaN  \n",
      "2                    NaN                  NaN             NaN             NaN  \n",
      "3                    NaN                  0.0             NaN             NaN  \n",
      "4                    NaN                  1.0       24.409202     1811.124711  \n",
      "5                    NaN                  1.0       25.724152     1853.862611  \n",
      "     Active  Trials id  Mean speed  Mean pupil area  Lick count  \\\n",
      "259     0.0        0.0    8.715783      1640.915917         NaN   \n",
      "260     0.0        1.0   57.120371      1916.181335         NaN   \n",
      "261     0.0        7.0   62.374980      2176.442849         NaN   \n",
      "262     0.0        9.0   58.075964      2196.230252         NaN   \n",
      "263     0.0       10.0   68.147296      2019.560018         NaN   \n",
      "264     0.0       11.0   73.372342      2080.511557         NaN   \n",
      "\n",
      "     Rolling mean hit rate  Hit/miss this trial  Smoothed speed  \\\n",
      "259                    NaN                  NaN       17.207941   \n",
      "260                    NaN                  NaN       28.622662   \n",
      "261                    NaN                  NaN       32.796988   \n",
      "262                    NaN                  NaN       41.798786   \n",
      "263                    NaN                  NaN       50.886879   \n",
      "264                    NaN                  NaN       63.818191   \n",
      "\n",
      "     Smoothed pupil  \n",
      "259     1682.203047  \n",
      "260     1765.948669  \n",
      "261     1856.473846  \n",
      "262     1954.201302  \n",
      "263     1989.866074  \n",
      "264     2077.785202  \n"
     ]
    }
   ],
   "source": [
    "#active and passive\n",
    "trialInds=trialData.index\n",
    "print(trialData.head(6))\n",
    "\n",
    "#split off a subset for active only\n",
    "trialDataActive=trialData[trialData['Active']==True]\n",
    "trialIndsA=trialDataActive.index #will need these inds if doing HMM on active only\n",
    "print(trialDataActive.head(6))\n",
    "\n",
    "#split off a subset for passive only\n",
    "trialDataPassive=trialData[trialData['Active']==False]\n",
    "trialIndsP=trialDataPassive.index\n",
    "print(trialDataPassive.head(6))"
   ]
  },
  {
   "cell_type": "code",
   "execution_count": 9,
   "id": "43504566-f66d-4862-a581-25cb10654c5a",
   "metadata": {
    "tags": []
   },
   "outputs": [
    {
     "data": {
      "text/plain": [
       "Text(0.5, 0, 'trial')"
      ]
     },
     "execution_count": 9,
     "metadata": {},
     "output_type": "execute_result"
    },
    {
     "data": {
      "image/png": "[encoded data removed]",
      "text/plain": [
       "<Figure size 700x700 with 4 Axes>"
      ]
     },
     "metadata": {},
     "output_type": "display_data"
    }
   ],
   "source": [
    "#visualize behavioral varaibles\n",
    "fig, axes = plt.subplots(nrows=2,ncols=2, figsize=(7,7))\n",
    "axes[0,0].plot(trialDataPassive['Smoothed speed'])\n",
    "axes[0,0].set_title('Smoothed speed')\n",
    "axes[0,0].set_ylabel('cm/s')\n",
    "\n",
    "axes[1,0].plot(trialDataPassive['Smoothed pupil'])\n",
    "axes[1,0].set_title('Pupil area')\n",
    "axes[1,0].set_ylabel('Pix')\n",
    "axes[1,0].set_xlabel('trial')\n",
    "\n",
    "#axes[0,1].plot(trialDataPassive['Lick count'])\n",
    "#axes[0,1].set_title('Lick count')\n",
    "#axes[0,1].set_ylabel('# licks')\n",
    "\n",
    "#axes[1,1].plot(trialDataPassive['Rolling mean hit rate'])\n",
    "#axes[1,1].set_title('Hit rate')\n",
    "#axes[1,1].set_ylabel('mean over 5 trials')\n",
    "#axes[1,1].set_xlabel('trial')"
   ]
  },
  {
   "cell_type": "code",
   "execution_count": 10,
   "id": "d8aae753-e9e7-479d-a457-b81cee360baa",
   "metadata": {
    "tags": []
   },
   "outputs": [],
   "source": [
    "#start coding the HMM for one session - load dynamax\n",
    "try:\n",
    "    import dynamax\n",
    "except ModuleNotFoundError:\n",
    "    print('installing dynamax')\n",
    "    if np.__version__ != '1.23.4':\n",
    "        print('installing compatible numpy')\n",
    "        %pip install -q numpy==1.23.4\n",
    "    %pip install -q dynamax[notebooks]\n",
    "    import dynamax\n",
    "import warnings\n",
    "warnings.filterwarnings(\"ignore\")"
   ]
  },
  {
   "cell_type": "code",
   "execution_count": 11,
   "id": "874a3b65-2833-4053-8fde-45fef33a6599",
   "metadata": {
    "tags": []
   },
   "outputs": [
    {
     "name": "stderr",
     "output_type": "stream",
     "text": [
      "No GPU/TPU found, falling back to CPU. (Set TF_CPP_MIN_LOG_LEVEL=0 and rerun for more info.)\n"
     ]
    }
   ],
   "source": [
    "# import jax\n",
    "from functools import partial\n",
    "import jax.numpy as jnp\n",
    "import jax.random as jr\n",
    "import matplotlib.pyplot as plt\n",
    "from dynamax.hidden_markov_model import GaussianHMM\n",
    "from dynamax.hidden_markov_model import DiagonalGaussianHMM\n",
    "from dynamax.hidden_markov_model import SphericalGaussianHMM\n",
    "from dynamax.hidden_markov_model import SharedCovarianceGaussianHMM\n",
    "from dynamax.utils.plotting import CMAP, COLORS, white_to_color_cmap"
   ]
  },
  {
   "cell_type": "code",
   "execution_count": 12,
   "id": "79411653-466f-4ff7-a87e-71e6ada8aab3",
   "metadata": {
    "tags": []
   },
   "outputs": [],
   "source": [
    "# organizing data for HMM\n",
    "data = trialDataPassive[['Smoothed speed', 'Smoothed pupil']].values\n",
    "nInputs = len(data)"
   ]
  },
  {
   "cell_type": "code",
   "execution_count": 13,
   "id": "6f85bd60-2a8a-481c-bffd-fc1db0da3430",
   "metadata": {
    "tags": []
   },
   "outputs": [],
   "source": [
    "data[np.isnan(data)] = 0\n",
    "observations = jnp.array(data)\n",
    "observations_raw=observations.copy\n",
    "scaler = StandardScaler()      \n",
    "observations = scaler.fit_transform(observations)"
   ]
  },
  {
   "cell_type": "code",
   "execution_count": 14,
   "id": "2b7c502b-e93b-4546-9e16-16b1577279e1",
   "metadata": {
    "tags": []
   },
   "outputs": [
    {
     "name": "stdout",
     "output_type": "stream",
     "text": [
      "Number of batches: 6\n",
      "Number of trials in each batch: 43\n"
     ]
    }
   ],
   "source": [
    "# Split the data into equal length batches for cross-validation\n",
    "n_batches = 6\n",
    "n_steps = data.shape[0] - (data.shape[0] % n_batches)\n",
    "batched_observations = observations[:n_steps, :].reshape(n_batches, -1, observations.shape[1])\n",
    "batch_size = batched_observations.shape[1]\n",
    "print(\"Number of batches:\", n_batches)\n",
    "print(\"Number of trials in each batch:\", batch_size)"
   ]
  },
  {
   "cell_type": "code",
   "execution_count": 14,
   "id": "250714ed-e8ca-4091-929d-5ed0ccb76853",
   "metadata": {
    "tags": []
   },
   "outputs": [
    {
     "name": "stdout",
     "output_type": "stream",
     "text": [
      "num states:  1\n",
      "fitting a single Gaussian\n",
      "fitting a single Gaussian\n",
      "fitting a single Gaussian\n",
      "fitting a single Gaussian\n",
      "fitting a single Gaussian\n",
      "fitting a single Gaussian\n",
      "num states:  2\n"
     ]
    },
    {
     "data": {
      "text/html": [
       "\n",
       "<style>\n",
       "    /* Turns off some styling */\n",
       "    progress {\n",
       "        /* gets rid of default border in Firefox and Opera. */\n",
       "        border: none;\n",
       "        /* Needs to be in here for Safari polyfill so background images work as expected. */\n",
       "        background-size: auto;\n",
       "    }\n",
       "    progress:not([value]), progress:not([value])::-webkit-progress-bar {\n",
       "        background: repeating-linear-gradient(45deg, #7e7e7e, #7e7e7e 10px, #5c5c5c 10px, #5c5c5c 20px);\n",
       "    }\n",
       "    .progress-bar-interrupted, .progress-bar-interrupted::-webkit-progress-bar {\n",
       "        background: #F44336;\n",
       "    }\n",
       "</style>\n"
      ],
      "text/plain": [
       "<IPython.core.display.HTML object>"
      ]
     },
     "metadata": {},
     "output_type": "display_data"
    },
    {
     "data": {
      "text/html": [
       "\n",
       "    <div>\n",
       "      <progress value='500' class='' max='500' style='width:300px; height:20px; vertical-align: middle;'></progress>\n",
       "      100.00% [500/500 00:01&lt;00:00]\n",
       "    </div>\n",
       "    "
      ],
      "text/plain": [
       "<IPython.core.display.HTML object>"
      ]
     },
     "metadata": {},
     "output_type": "display_data"
    },
    {
     "data": {
      "text/html": [
       "\n",
       "<style>\n",
       "    /* Turns off some styling */\n",
       "    progress {\n",
       "        /* gets rid of default border in Firefox and Opera. */\n",
       "        border: none;\n",
       "        /* Needs to be in here for Safari polyfill so background images work as expected. */\n",
       "        background-size: auto;\n",
       "    }\n",
       "    progress:not([value]), progress:not([value])::-webkit-progress-bar {\n",
       "        background: repeating-linear-gradient(45deg, #7e7e7e, #7e7e7e 10px, #5c5c5c 10px, #5c5c5c 20px);\n",
       "    }\n",
       "    .progress-bar-interrupted, .progress-bar-interrupted::-webkit-progress-bar {\n",
       "        background: #F44336;\n",
       "    }\n",
       "</style>\n"
      ],
      "text/plain": [
       "<IPython.core.display.HTML object>"
      ]
     },
     "metadata": {},
     "output_type": "display_data"
    },
    {
     "data": {
      "text/html": [
       "\n",
       "    <div>\n",
       "      <progress value='500' class='' max='500' style='width:300px; height:20px; vertical-align: middle;'></progress>\n",
       "      100.00% [500/500 00:01&lt;00:00]\n",
       "    </div>\n",
       "    "
      ],
      "text/plain": [
       "<IPython.core.display.HTML object>"
      ]
     },
     "metadata": {},
     "output_type": "display_data"
    },
    {
     "data": {
      "text/html": [
       "\n",
       "<style>\n",
       "    /* Turns off some styling */\n",
       "    progress {\n",
       "        /* gets rid of default border in Firefox and Opera. */\n",
       "        border: none;\n",
       "        /* Needs to be in here for Safari polyfill so background images work as expected. */\n",
       "        background-size: auto;\n",
       "    }\n",
       "    progress:not([value]), progress:not([value])::-webkit-progress-bar {\n",
       "        background: repeating-linear-gradient(45deg, #7e7e7e, #7e7e7e 10px, #5c5c5c 10px, #5c5c5c 20px);\n",
       "    }\n",
       "    .progress-bar-interrupted, .progress-bar-interrupted::-webkit-progress-bar {\n",
       "        background: #F44336;\n",
       "    }\n",
       "</style>\n"
      ],
      "text/plain": [
       "<IPython.core.display.HTML object>"
      ]
     },
     "metadata": {},
     "output_type": "display_data"
    },
    {
     "data": {
      "text/html": [
       "\n",
       "    <div>\n",
       "      <progress value='500' class='' max='500' style='width:300px; height:20px; vertical-align: middle;'></progress>\n",
       "      100.00% [500/500 00:01&lt;00:00]\n",
       "    </div>\n",
       "    "
      ],
      "text/plain": [
       "<IPython.core.display.HTML object>"
      ]
     },
     "metadata": {},
     "output_type": "display_data"
    },
    {
     "data": {
      "text/html": [
       "\n",
       "<style>\n",
       "    /* Turns off some styling */\n",
       "    progress {\n",
       "        /* gets rid of default border in Firefox and Opera. */\n",
       "        border: none;\n",
       "        /* Needs to be in here for Safari polyfill so background images work as expected. */\n",
       "        background-size: auto;\n",
       "    }\n",
       "    progress:not([value]), progress:not([value])::-webkit-progress-bar {\n",
       "        background: repeating-linear-gradient(45deg, #7e7e7e, #7e7e7e 10px, #5c5c5c 10px, #5c5c5c 20px);\n",
       "    }\n",
       "    .progress-bar-interrupted, .progress-bar-interrupted::-webkit-progress-bar {\n",
       "        background: #F44336;\n",
       "    }\n",
       "</style>\n"
      ],
      "text/plain": [
       "<IPython.core.display.HTML object>"
      ]
     },
     "metadata": {},
     "output_type": "display_data"
    },
    {
     "data": {
      "text/html": [
       "\n",
       "    <div>\n",
       "      <progress value='500' class='' max='500' style='width:300px; height:20px; vertical-align: middle;'></progress>\n",
       "      100.00% [500/500 00:01&lt;00:00]\n",
       "    </div>\n",
       "    "
      ],
      "text/plain": [
       "<IPython.core.display.HTML object>"
      ]
     },
     "metadata": {},
     "output_type": "display_data"
    },
    {
     "data": {
      "text/html": [
       "\n",
       "<style>\n",
       "    /* Turns off some styling */\n",
       "    progress {\n",
       "        /* gets rid of default border in Firefox and Opera. */\n",
       "        border: none;\n",
       "        /* Needs to be in here for Safari polyfill so background images work as expected. */\n",
       "        background-size: auto;\n",
       "    }\n",
       "    progress:not([value]), progress:not([value])::-webkit-progress-bar {\n",
       "        background: repeating-linear-gradient(45deg, #7e7e7e, #7e7e7e 10px, #5c5c5c 10px, #5c5c5c 20px);\n",
       "    }\n",
       "    .progress-bar-interrupted, .progress-bar-interrupted::-webkit-progress-bar {\n",
       "        background: #F44336;\n",
       "    }\n",
       "</style>\n"
      ],
      "text/plain": [
       "<IPython.core.display.HTML object>"
      ]
     },
     "metadata": {},
     "output_type": "display_data"
    },
    {
     "data": {
      "text/html": [
       "\n",
       "    <div>\n",
       "      <progress value='500' class='' max='500' style='width:300px; height:20px; vertical-align: middle;'></progress>\n",
       "      100.00% [500/500 00:01&lt;00:00]\n",
       "    </div>\n",
       "    "
      ],
      "text/plain": [
       "<IPython.core.display.HTML object>"
      ]
     },
     "metadata": {},
     "output_type": "display_data"
    },
    {
     "data": {
      "text/html": [
       "\n",
       "<style>\n",
       "    /* Turns off some styling */\n",
       "    progress {\n",
       "        /* gets rid of default border in Firefox and Opera. */\n",
       "        border: none;\n",
       "        /* Needs to be in here for Safari polyfill so background images work as expected. */\n",
       "        background-size: auto;\n",
       "    }\n",
       "    progress:not([value]), progress:not([value])::-webkit-progress-bar {\n",
       "        background: repeating-linear-gradient(45deg, #7e7e7e, #7e7e7e 10px, #5c5c5c 10px, #5c5c5c 20px);\n",
       "    }\n",
       "    .progress-bar-interrupted, .progress-bar-interrupted::-webkit-progress-bar {\n",
       "        background: #F44336;\n",
       "    }\n",
       "</style>\n"
      ],
      "text/plain": [
       "<IPython.core.display.HTML object>"
      ]
     },
     "metadata": {},
     "output_type": "display_data"
    },
    {
     "data": {
      "text/html": [
       "\n",
       "    <div>\n",
       "      <progress value='500' class='' max='500' style='width:300px; height:20px; vertical-align: middle;'></progress>\n",
       "      100.00% [500/500 00:01&lt;00:00]\n",
       "    </div>\n",
       "    "
      ],
      "text/plain": [
       "<IPython.core.display.HTML object>"
      ]
     },
     "metadata": {},
     "output_type": "display_data"
    },
    {
     "name": "stdout",
     "output_type": "stream",
     "text": [
      "num states:  3\n"
     ]
    },
    {
     "data": {
      "text/html": [
       "\n",
       "<style>\n",
       "    /* Turns off some styling */\n",
       "    progress {\n",
       "        /* gets rid of default border in Firefox and Opera. */\n",
       "        border: none;\n",
       "        /* Needs to be in here for Safari polyfill so background images work as expected. */\n",
       "        background-size: auto;\n",
       "    }\n",
       "    progress:not([value]), progress:not([value])::-webkit-progress-bar {\n",
       "        background: repeating-linear-gradient(45deg, #7e7e7e, #7e7e7e 10px, #5c5c5c 10px, #5c5c5c 20px);\n",
       "    }\n",
       "    .progress-bar-interrupted, .progress-bar-interrupted::-webkit-progress-bar {\n",
       "        background: #F44336;\n",
       "    }\n",
       "</style>\n"
      ],
      "text/plain": [
       "<IPython.core.display.HTML object>"
      ]
     },
     "metadata": {},
     "output_type": "display_data"
    },
    {
     "data": {
      "text/html": [
       "\n",
       "    <div>\n",
       "      <progress value='500' class='' max='500' style='width:300px; height:20px; vertical-align: middle;'></progress>\n",
       "      100.00% [500/500 00:01&lt;00:00]\n",
       "    </div>\n",
       "    "
      ],
      "text/plain": [
       "<IPython.core.display.HTML object>"
      ]
     },
     "metadata": {},
     "output_type": "display_data"
    },
    {
     "data": {
      "text/html": [
       "\n",
       "<style>\n",
       "    /* Turns off some styling */\n",
       "    progress {\n",
       "        /* gets rid of default border in Firefox and Opera. */\n",
       "        border: none;\n",
       "        /* Needs to be in here for Safari polyfill so background images work as expected. */\n",
       "        background-size: auto;\n",
       "    }\n",
       "    progress:not([value]), progress:not([value])::-webkit-progress-bar {\n",
       "        background: repeating-linear-gradient(45deg, #7e7e7e, #7e7e7e 10px, #5c5c5c 10px, #5c5c5c 20px);\n",
       "    }\n",
       "    .progress-bar-interrupted, .progress-bar-interrupted::-webkit-progress-bar {\n",
       "        background: #F44336;\n",
       "    }\n",
       "</style>\n"
      ],
      "text/plain": [
       "<IPython.core.display.HTML object>"
      ]
     },
     "metadata": {},
     "output_type": "display_data"
    },
    {
     "data": {
      "text/html": [
       "\n",
       "    <div>\n",
       "      <progress value='500' class='' max='500' style='width:300px; height:20px; vertical-align: middle;'></progress>\n",
       "      100.00% [500/500 00:01&lt;00:00]\n",
       "    </div>\n",
       "    "
      ],
      "text/plain": [
       "<IPython.core.display.HTML object>"
      ]
     },
     "metadata": {},
     "output_type": "display_data"
    },
    {
     "data": {
      "text/html": [
       "\n",
       "<style>\n",
       "    /* Turns off some styling */\n",
       "    progress {\n",
       "        /* gets rid of default border in Firefox and Opera. */\n",
       "        border: none;\n",
       "        /* Needs to be in here for Safari polyfill so background images work as expected. */\n",
       "        background-size: auto;\n",
       "    }\n",
       "    progress:not([value]), progress:not([value])::-webkit-progress-bar {\n",
       "        background: repeating-linear-gradient(45deg, #7e7e7e, #7e7e7e 10px, #5c5c5c 10px, #5c5c5c 20px);\n",
       "    }\n",
       "    .progress-bar-interrupted, .progress-bar-interrupted::-webkit-progress-bar {\n",
       "        background: #F44336;\n",
       "    }\n",
       "</style>\n"
      ],
      "text/plain": [
       "<IPython.core.display.HTML object>"
      ]
     },
     "metadata": {},
     "output_type": "display_data"
    },
    {
     "data": {
      "text/html": [
       "\n",
       "    <div>\n",
       "      <progress value='500' class='' max='500' style='width:300px; height:20px; vertical-align: middle;'></progress>\n",
       "      100.00% [500/500 00:01&lt;00:00]\n",
       "    </div>\n",
       "    "
      ],
      "text/plain": [
       "<IPython.core.display.HTML object>"
      ]
     },
     "metadata": {},
     "output_type": "display_data"
    },
    {
     "data": {
      "text/html": [
       "\n",
       "<style>\n",
       "    /* Turns off some styling */\n",
       "    progress {\n",
       "        /* gets rid of default border in Firefox and Opera. */\n",
       "        border: none;\n",
       "        /* Needs to be in here for Safari polyfill so background images work as expected. */\n",
       "        background-size: auto;\n",
       "    }\n",
       "    progress:not([value]), progress:not([value])::-webkit-progress-bar {\n",
       "        background: repeating-linear-gradient(45deg, #7e7e7e, #7e7e7e 10px, #5c5c5c 10px, #5c5c5c 20px);\n",
       "    }\n",
       "    .progress-bar-interrupted, .progress-bar-interrupted::-webkit-progress-bar {\n",
       "        background: #F44336;\n",
       "    }\n",
       "</style>\n"
      ],
      "text/plain": [
       "<IPython.core.display.HTML object>"
      ]
     },
     "metadata": {},
     "output_type": "display_data"
    },
    {
     "data": {
      "text/html": [
       "\n",
       "    <div>\n",
       "      <progress value='500' class='' max='500' style='width:300px; height:20px; vertical-align: middle;'></progress>\n",
       "      100.00% [500/500 00:01&lt;00:00]\n",
       "    </div>\n",
       "    "
      ],
      "text/plain": [
       "<IPython.core.display.HTML object>"
      ]
     },
     "metadata": {},
     "output_type": "display_data"
    },
    {
     "data": {
      "text/html": [
       "\n",
       "<style>\n",
       "    /* Turns off some styling */\n",
       "    progress {\n",
       "        /* gets rid of default border in Firefox and Opera. */\n",
       "        border: none;\n",
       "        /* Needs to be in here for Safari polyfill so background images work as expected. */\n",
       "        background-size: auto;\n",
       "    }\n",
       "    progress:not([value]), progress:not([value])::-webkit-progress-bar {\n",
       "        background: repeating-linear-gradient(45deg, #7e7e7e, #7e7e7e 10px, #5c5c5c 10px, #5c5c5c 20px);\n",
       "    }\n",
       "    .progress-bar-interrupted, .progress-bar-interrupted::-webkit-progress-bar {\n",
       "        background: #F44336;\n",
       "    }\n",
       "</style>\n"
      ],
      "text/plain": [
       "<IPython.core.display.HTML object>"
      ]
     },
     "metadata": {},
     "output_type": "display_data"
    },
    {
     "data": {
      "text/html": [
       "\n",
       "    <div>\n",
       "      <progress value='500' class='' max='500' style='width:300px; height:20px; vertical-align: middle;'></progress>\n",
       "      100.00% [500/500 00:01&lt;00:00]\n",
       "    </div>\n",
       "    "
      ],
      "text/plain": [
       "<IPython.core.display.HTML object>"
      ]
     },
     "metadata": {},
     "output_type": "display_data"
    },
    {
     "data": {
      "text/html": [
       "\n",
       "<style>\n",
       "    /* Turns off some styling */\n",
       "    progress {\n",
       "        /* gets rid of default border in Firefox and Opera. */\n",
       "        border: none;\n",
       "        /* Needs to be in here for Safari polyfill so background images work as expected. */\n",
       "        background-size: auto;\n",
       "    }\n",
       "    progress:not([value]), progress:not([value])::-webkit-progress-bar {\n",
       "        background: repeating-linear-gradient(45deg, #7e7e7e, #7e7e7e 10px, #5c5c5c 10px, #5c5c5c 20px);\n",
       "    }\n",
       "    .progress-bar-interrupted, .progress-bar-interrupted::-webkit-progress-bar {\n",
       "        background: #F44336;\n",
       "    }\n",
       "</style>\n"
      ],
      "text/plain": [
       "<IPython.core.display.HTML object>"
      ]
     },
     "metadata": {},
     "output_type": "display_data"
    },
    {
     "data": {
      "text/html": [
       "\n",
       "    <div>\n",
       "      <progress value='500' class='' max='500' style='width:300px; height:20px; vertical-align: middle;'></progress>\n",
       "      100.00% [500/500 00:01&lt;00:00]\n",
       "    </div>\n",
       "    "
      ],
      "text/plain": [
       "<IPython.core.display.HTML object>"
      ]
     },
     "metadata": {},
     "output_type": "display_data"
    },
    {
     "name": "stdout",
     "output_type": "stream",
     "text": [
      "num states:  4\n"
     ]
    },
    {
     "data": {
      "text/html": [
       "\n",
       "<style>\n",
       "    /* Turns off some styling */\n",
       "    progress {\n",
       "        /* gets rid of default border in Firefox and Opera. */\n",
       "        border: none;\n",
       "        /* Needs to be in here for Safari polyfill so background images work as expected. */\n",
       "        background-size: auto;\n",
       "    }\n",
       "    progress:not([value]), progress:not([value])::-webkit-progress-bar {\n",
       "        background: repeating-linear-gradient(45deg, #7e7e7e, #7e7e7e 10px, #5c5c5c 10px, #5c5c5c 20px);\n",
       "    }\n",
       "    .progress-bar-interrupted, .progress-bar-interrupted::-webkit-progress-bar {\n",
       "        background: #F44336;\n",
       "    }\n",
       "</style>\n"
      ],
      "text/plain": [
       "<IPython.core.display.HTML object>"
      ]
     },
     "metadata": {},
     "output_type": "display_data"
    },
    {
     "data": {
      "text/html": [
       "\n",
       "    <div>\n",
       "      <progress value='500' class='' max='500' style='width:300px; height:20px; vertical-align: middle;'></progress>\n",
       "      100.00% [500/500 00:01&lt;00:00]\n",
       "    </div>\n",
       "    "
      ],
      "text/plain": [
       "<IPython.core.display.HTML object>"
      ]
     },
     "metadata": {},
     "output_type": "display_data"
    },
    {
     "data": {
      "text/html": [
       "\n",
       "<style>\n",
       "    /* Turns off some styling */\n",
       "    progress {\n",
       "        /* gets rid of default border in Firefox and Opera. */\n",
       "        border: none;\n",
       "        /* Needs to be in here for Safari polyfill so background images work as expected. */\n",
       "        background-size: auto;\n",
       "    }\n",
       "    progress:not([value]), progress:not([value])::-webkit-progress-bar {\n",
       "        background: repeating-linear-gradient(45deg, #7e7e7e, #7e7e7e 10px, #5c5c5c 10px, #5c5c5c 20px);\n",
       "    }\n",
       "    .progress-bar-interrupted, .progress-bar-interrupted::-webkit-progress-bar {\n",
       "        background: #F44336;\n",
       "    }\n",
       "</style>\n"
      ],
      "text/plain": [
       "<IPython.core.display.HTML object>"
      ]
     },
     "metadata": {},
     "output_type": "display_data"
    },
    {
     "data": {
      "text/html": [
       "\n",
       "    <div>\n",
       "      <progress value='500' class='' max='500' style='width:300px; height:20px; vertical-align: middle;'></progress>\n",
       "      100.00% [500/500 00:01&lt;00:00]\n",
       "    </div>\n",
       "    "
      ],
      "text/plain": [
       "<IPython.core.display.HTML object>"
      ]
     },
     "metadata": {},
     "output_type": "display_data"
    },
    {
     "data": {
      "text/html": [
       "\n",
       "<style>\n",
       "    /* Turns off some styling */\n",
       "    progress {\n",
       "        /* gets rid of default border in Firefox and Opera. */\n",
       "        border: none;\n",
       "        /* Needs to be in here for Safari polyfill so background images work as expected. */\n",
       "        background-size: auto;\n",
       "    }\n",
       "    progress:not([value]), progress:not([value])::-webkit-progress-bar {\n",
       "        background: repeating-linear-gradient(45deg, #7e7e7e, #7e7e7e 10px, #5c5c5c 10px, #5c5c5c 20px);\n",
       "    }\n",
       "    .progress-bar-interrupted, .progress-bar-interrupted::-webkit-progress-bar {\n",
       "        background: #F44336;\n",
       "    }\n",
       "</style>\n"
      ],
      "text/plain": [
       "<IPython.core.display.HTML object>"
      ]
     },
     "metadata": {},
     "output_type": "display_data"
    },
    {
     "data": {
      "text/html": [
       "\n",
       "    <div>\n",
       "      <progress value='500' class='' max='500' style='width:300px; height:20px; vertical-align: middle;'></progress>\n",
       "      100.00% [500/500 00:01&lt;00:00]\n",
       "    </div>\n",
       "    "
      ],
      "text/plain": [
       "<IPython.core.display.HTML object>"
      ]
     },
     "metadata": {},
     "output_type": "display_data"
    },
    {
     "data": {
      "text/html": [
       "\n",
       "<style>\n",
       "    /* Turns off some styling */\n",
       "    progress {\n",
       "        /* gets rid of default border in Firefox and Opera. */\n",
       "        border: none;\n",
       "        /* Needs to be in here for Safari polyfill so background images work as expected. */\n",
       "        background-size: auto;\n",
       "    }\n",
       "    progress:not([value]), progress:not([value])::-webkit-progress-bar {\n",
       "        background: repeating-linear-gradient(45deg, #7e7e7e, #7e7e7e 10px, #5c5c5c 10px, #5c5c5c 20px);\n",
       "    }\n",
       "    .progress-bar-interrupted, .progress-bar-interrupted::-webkit-progress-bar {\n",
       "        background: #F44336;\n",
       "    }\n",
       "</style>\n"
      ],
      "text/plain": [
       "<IPython.core.display.HTML object>"
      ]
     },
     "metadata": {},
     "output_type": "display_data"
    },
    {
     "data": {
      "text/html": [
       "\n",
       "    <div>\n",
       "      <progress value='500' class='' max='500' style='width:300px; height:20px; vertical-align: middle;'></progress>\n",
       "      100.00% [500/500 00:01&lt;00:00]\n",
       "    </div>\n",
       "    "
      ],
      "text/plain": [
       "<IPython.core.display.HTML object>"
      ]
     },
     "metadata": {},
     "output_type": "display_data"
    },
    {
     "data": {
      "text/html": [
       "\n",
       "<style>\n",
       "    /* Turns off some styling */\n",
       "    progress {\n",
       "        /* gets rid of default border in Firefox and Opera. */\n",
       "        border: none;\n",
       "        /* Needs to be in here for Safari polyfill so background images work as expected. */\n",
       "        background-size: auto;\n",
       "    }\n",
       "    progress:not([value]), progress:not([value])::-webkit-progress-bar {\n",
       "        background: repeating-linear-gradient(45deg, #7e7e7e, #7e7e7e 10px, #5c5c5c 10px, #5c5c5c 20px);\n",
       "    }\n",
       "    .progress-bar-interrupted, .progress-bar-interrupted::-webkit-progress-bar {\n",
       "        background: #F44336;\n",
       "    }\n",
       "</style>\n"
      ],
      "text/plain": [
       "<IPython.core.display.HTML object>"
      ]
     },
     "metadata": {},
     "output_type": "display_data"
    },
    {
     "data": {
      "text/html": [
       "\n",
       "    <div>\n",
       "      <progress value='500' class='' max='500' style='width:300px; height:20px; vertical-align: middle;'></progress>\n",
       "      100.00% [500/500 00:01&lt;00:00]\n",
       "    </div>\n",
       "    "
      ],
      "text/plain": [
       "<IPython.core.display.HTML object>"
      ]
     },
     "metadata": {},
     "output_type": "display_data"
    },
    {
     "data": {
      "text/html": [
       "\n",
       "<style>\n",
       "    /* Turns off some styling */\n",
       "    progress {\n",
       "        /* gets rid of default border in Firefox and Opera. */\n",
       "        border: none;\n",
       "        /* Needs to be in here for Safari polyfill so background images work as expected. */\n",
       "        background-size: auto;\n",
       "    }\n",
       "    progress:not([value]), progress:not([value])::-webkit-progress-bar {\n",
       "        background: repeating-linear-gradient(45deg, #7e7e7e, #7e7e7e 10px, #5c5c5c 10px, #5c5c5c 20px);\n",
       "    }\n",
       "    .progress-bar-interrupted, .progress-bar-interrupted::-webkit-progress-bar {\n",
       "        background: #F44336;\n",
       "    }\n",
       "</style>\n"
      ],
      "text/plain": [
       "<IPython.core.display.HTML object>"
      ]
     },
     "metadata": {},
     "output_type": "display_data"
    },
    {
     "data": {
      "text/html": [
       "\n",
       "    <div>\n",
       "      <progress value='500' class='' max='500' style='width:300px; height:20px; vertical-align: middle;'></progress>\n",
       "      100.00% [500/500 00:01&lt;00:00]\n",
       "    </div>\n",
       "    "
      ],
      "text/plain": [
       "<IPython.core.display.HTML object>"
      ]
     },
     "metadata": {},
     "output_type": "display_data"
    },
    {
     "name": "stdout",
     "output_type": "stream",
     "text": [
      "num states:  5\n"
     ]
    },
    {
     "data": {
      "text/html": [
       "\n",
       "<style>\n",
       "    /* Turns off some styling */\n",
       "    progress {\n",
       "        /* gets rid of default border in Firefox and Opera. */\n",
       "        border: none;\n",
       "        /* Needs to be in here for Safari polyfill so background images work as expected. */\n",
       "        background-size: auto;\n",
       "    }\n",
       "    progress:not([value]), progress:not([value])::-webkit-progress-bar {\n",
       "        background: repeating-linear-gradient(45deg, #7e7e7e, #7e7e7e 10px, #5c5c5c 10px, #5c5c5c 20px);\n",
       "    }\n",
       "    .progress-bar-interrupted, .progress-bar-interrupted::-webkit-progress-bar {\n",
       "        background: #F44336;\n",
       "    }\n",
       "</style>\n"
      ],
      "text/plain": [
       "<IPython.core.display.HTML object>"
      ]
     },
     "metadata": {},
     "output_type": "display_data"
    },
    {
     "data": {
      "text/html": [
       "\n",
       "    <div>\n",
       "      <progress value='500' class='' max='500' style='width:300px; height:20px; vertical-align: middle;'></progress>\n",
       "      100.00% [500/500 00:01&lt;00:00]\n",
       "    </div>\n",
       "    "
      ],
      "text/plain": [
       "<IPython.core.display.HTML object>"
      ]
     },
     "metadata": {},
     "output_type": "display_data"
    },
    {
     "data": {
      "text/html": [
       "\n",
       "<style>\n",
       "    /* Turns off some styling */\n",
       "    progress {\n",
       "        /* gets rid of default border in Firefox and Opera. */\n",
       "        border: none;\n",
       "        /* Needs to be in here for Safari polyfill so background images work as expected. */\n",
       "        background-size: auto;\n",
       "    }\n",
       "    progress:not([value]), progress:not([value])::-webkit-progress-bar {\n",
       "        background: repeating-linear-gradient(45deg, #7e7e7e, #7e7e7e 10px, #5c5c5c 10px, #5c5c5c 20px);\n",
       "    }\n",
       "    .progress-bar-interrupted, .progress-bar-interrupted::-webkit-progress-bar {\n",
       "        background: #F44336;\n",
       "    }\n",
       "</style>\n"
      ],
      "text/plain": [
       "<IPython.core.display.HTML object>"
      ]
     },
     "metadata": {},
     "output_type": "display_data"
    },
    {
     "data": {
      "text/html": [
       "\n",
       "    <div>\n",
       "      <progress value='500' class='' max='500' style='width:300px; height:20px; vertical-align: middle;'></progress>\n",
       "      100.00% [500/500 00:01&lt;00:00]\n",
       "    </div>\n",
       "    "
      ],
      "text/plain": [
       "<IPython.core.display.HTML object>"
      ]
     },
     "metadata": {},
     "output_type": "display_data"
    },
    {
     "data": {
      "text/html": [
       "\n",
       "<style>\n",
       "    /* Turns off some styling */\n",
       "    progress {\n",
       "        /* gets rid of default border in Firefox and Opera. */\n",
       "        border: none;\n",
       "        /* Needs to be in here for Safari polyfill so background images work as expected. */\n",
       "        background-size: auto;\n",
       "    }\n",
       "    progress:not([value]), progress:not([value])::-webkit-progress-bar {\n",
       "        background: repeating-linear-gradient(45deg, #7e7e7e, #7e7e7e 10px, #5c5c5c 10px, #5c5c5c 20px);\n",
       "    }\n",
       "    .progress-bar-interrupted, .progress-bar-interrupted::-webkit-progress-bar {\n",
       "        background: #F44336;\n",
       "    }\n",
       "</style>\n"
      ],
      "text/plain": [
       "<IPython.core.display.HTML object>"
      ]
     },
     "metadata": {},
     "output_type": "display_data"
    },
    {
     "data": {
      "text/html": [
       "\n",
       "    <div>\n",
       "      <progress value='500' class='' max='500' style='width:300px; height:20px; vertical-align: middle;'></progress>\n",
       "      100.00% [500/500 00:01&lt;00:00]\n",
       "    </div>\n",
       "    "
      ],
      "text/plain": [
       "<IPython.core.display.HTML object>"
      ]
     },
     "metadata": {},
     "output_type": "display_data"
    },
    {
     "data": {
      "text/html": [
       "\n",
       "<style>\n",
       "    /* Turns off some styling */\n",
       "    progress {\n",
       "        /* gets rid of default border in Firefox and Opera. */\n",
       "        border: none;\n",
       "        /* Needs to be in here for Safari polyfill so background images work as expected. */\n",
       "        background-size: auto;\n",
       "    }\n",
       "    progress:not([value]), progress:not([value])::-webkit-progress-bar {\n",
       "        background: repeating-linear-gradient(45deg, #7e7e7e, #7e7e7e 10px, #5c5c5c 10px, #5c5c5c 20px);\n",
       "    }\n",
       "    .progress-bar-interrupted, .progress-bar-interrupted::-webkit-progress-bar {\n",
       "        background: #F44336;\n",
       "    }\n",
       "</style>\n"
      ],
      "text/plain": [
       "<IPython.core.display.HTML object>"
      ]
     },
     "metadata": {},
     "output_type": "display_data"
    },
    {
     "data": {
      "text/html": [
       "\n",
       "    <div>\n",
       "      <progress value='500' class='' max='500' style='width:300px; height:20px; vertical-align: middle;'></progress>\n",
       "      100.00% [500/500 00:01&lt;00:00]\n",
       "    </div>\n",
       "    "
      ],
      "text/plain": [
       "<IPython.core.display.HTML object>"
      ]
     },
     "metadata": {},
     "output_type": "display_data"
    },
    {
     "data": {
      "text/html": [
       "\n",
       "<style>\n",
       "    /* Turns off some styling */\n",
       "    progress {\n",
       "        /* gets rid of default border in Firefox and Opera. */\n",
       "        border: none;\n",
       "        /* Needs to be in here for Safari polyfill so background images work as expected. */\n",
       "        background-size: auto;\n",
       "    }\n",
       "    progress:not([value]), progress:not([value])::-webkit-progress-bar {\n",
       "        background: repeating-linear-gradient(45deg, #7e7e7e, #7e7e7e 10px, #5c5c5c 10px, #5c5c5c 20px);\n",
       "    }\n",
       "    .progress-bar-interrupted, .progress-bar-interrupted::-webkit-progress-bar {\n",
       "        background: #F44336;\n",
       "    }\n",
       "</style>\n"
      ],
      "text/plain": [
       "<IPython.core.display.HTML object>"
      ]
     },
     "metadata": {},
     "output_type": "display_data"
    },
    {
     "data": {
      "text/html": [
       "\n",
       "    <div>\n",
       "      <progress value='500' class='' max='500' style='width:300px; height:20px; vertical-align: middle;'></progress>\n",
       "      100.00% [500/500 00:01&lt;00:00]\n",
       "    </div>\n",
       "    "
      ],
      "text/plain": [
       "<IPython.core.display.HTML object>"
      ]
     },
     "metadata": {},
     "output_type": "display_data"
    },
    {
     "data": {
      "text/html": [
       "\n",
       "<style>\n",
       "    /* Turns off some styling */\n",
       "    progress {\n",
       "        /* gets rid of default border in Firefox and Opera. */\n",
       "        border: none;\n",
       "        /* Needs to be in here for Safari polyfill so background images work as expected. */\n",
       "        background-size: auto;\n",
       "    }\n",
       "    progress:not([value]), progress:not([value])::-webkit-progress-bar {\n",
       "        background: repeating-linear-gradient(45deg, #7e7e7e, #7e7e7e 10px, #5c5c5c 10px, #5c5c5c 20px);\n",
       "    }\n",
       "    .progress-bar-interrupted, .progress-bar-interrupted::-webkit-progress-bar {\n",
       "        background: #F44336;\n",
       "    }\n",
       "</style>\n"
      ],
      "text/plain": [
       "<IPython.core.display.HTML object>"
      ]
     },
     "metadata": {},
     "output_type": "display_data"
    },
    {
     "data": {
      "text/html": [
       "\n",
       "    <div>\n",
       "      <progress value='500' class='' max='500' style='width:300px; height:20px; vertical-align: middle;'></progress>\n",
       "      100.00% [500/500 00:01&lt;00:00]\n",
       "    </div>\n",
       "    "
      ],
      "text/plain": [
       "<IPython.core.display.HTML object>"
      ]
     },
     "metadata": {},
     "output_type": "display_data"
    }
   ],
   "source": [
    "# Define empty lists that we'll populate below\n",
    "avg_test_log_probs = []\n",
    "all_test_log_probs = []\n",
    "std_test_log_probs = []\n",
    "similarity_of_states_across_batches = []\n",
    "key = jr.PRNGKey(0) # <-- choose seed\n",
    "\n",
    "for num_states in range(1, 6): # <--choose number of states\n",
    "    print(\"num states: \", num_states)\n",
    "\n",
    "    test_log_probs = []\n",
    "    predicted_states = np.zeros([observations.shape[0], n_batches], dtype = int)\n",
    "    \n",
    "    for batch in range(n_batches):\n",
    "        # Extract all but this batch for training\n",
    "        train_observations = np.concatenate([batched_observations[:batch], batched_observations[batch+1:]])#.reshape((n_batches - 1)*batch_size, -1)\n",
    "        flat_train_observations = train_observations.reshape((n_batches - 1) * batch_size, -1)\n",
    "        \n",
    "        if num_states == 1:\n",
    "            print('fitting a single Gaussian')\n",
    "            train_mean = jnp.mean(flat_train_observations, axis=0).reshape([1,2]) #change this based on number of parameters\n",
    "            train_cov = jnp.cov(flat_train_observations.T)\n",
    "            test_data = jnp.array(batched_observations[batch])#scaler.transform(jnp.array(batched_observations[batch]))\n",
    "            test_lp = tfd.MultivariateNormalFullCovariance(train_mean, train_cov).log_prob(batched_observations[batch]).sum()\n",
    "        else:\n",
    "            # Make an HMM\n",
    "            hmm = GaussianHMM(num_states, batched_observations.shape[2])\n",
    "            \n",
    "            params, param_props = hmm.initialize(key=key, method=\"kmeans\", emissions=jnp.array(train_observations))\n",
    "\n",
    "            # Fit the model\n",
    "            params, lps = hmm.fit_em(params, param_props, jnp.array(train_observations), num_iters=500)\n",
    "            \n",
    "            #extract predicted states\n",
    "            predicted_states[:,batch] = hmm.most_likely_states(params, observations)\n",
    "\n",
    "            # Evaluate the log probability on held out data\n",
    "            test_lp = hmm.marginal_log_prob(params, jnp.array(batched_observations[batch]))\n",
    "        test_log_probs.append(test_lp)\n",
    "        #lp_all.append(test_lp)\n",
    "        #numstates_all.append(num_states)\n",
    "    \n",
    "    # Calculate the similarity of each set of predicted states\n",
    "    if batch != 1:\n",
    "        distance_between_batches = []\n",
    "        for i in range(n_batches):\n",
    "            for j in range(i-1):\n",
    "                bestpermutation = find_permutation(predicted_states[:,i], predicted_states[:,j])\n",
    "                distance_between_batches.append(np.sum(jnp.take(bestpermutation, predicted_states[:,i]) == predicted_states[:,j])/observations.shape[0])\n",
    "        similarity_of_states_across_batches.append(np.mean(distance_between_batches))\n",
    "    else:\n",
    "        similarity_of_states_across_batches.append(1)\n",
    "        \n",
    "    # Store the average test log prob\n",
    "    all_test_log_probs.append(test_log_probs)\n",
    "    avg_test_log_probs.append(np.nanmean(test_log_probs))\n",
    "    std_test_log_probs.append(np.nanstd(test_log_probs))"
   ]
  },
  {
   "cell_type": "code",
   "execution_count": 15,
   "id": "d8b043fb-92a2-4b00-ae33-ee13a6fbbc8d",
   "metadata": {
    "tags": []
   },
   "outputs": [
    {
     "data": {
      "image/png": "[encoded data removed]",
      "text/plain": [
       "<Figure size 400x300 with 1 Axes>"
      ]
     },
     "metadata": {},
     "output_type": "display_data"
    }
   ],
   "source": [
    "## keep these plots for all mice\n",
    "\n",
    "plt.figure(figsize = (4, 3))\n",
    "plt.errorbar(np.arange(1, 6), avg_test_log_probs, yerr = np.array(std_test_log_probs)/np.sqrt(n_batches), mfc = 'w', color = 'k', marker = 'o')\n",
    "\n",
    "# If you like, you can plot up each of the log_probs from the session.\n",
    "#for k, test_log_probs in zip(np.arange(1, 8), all_test_log_probs):\n",
    "#    plt.plot(k * np.ones(n_batches), test_log_probs, 'r.')\n",
    "\n",
    "plt.legend(['Mean + S.E.M'])\n",
    "plt.xlabel(\"number of states\")\n",
    "plt.ylabel(\"average test log prob\")\n",
    "plt.tight_layout()"
   ]
  },
  {
   "cell_type": "code",
   "execution_count": 15,
   "id": "4a7f1da9-5f63-4a91-8a61-ec80830bfa09",
   "metadata": {
    "tags": []
   },
   "outputs": [],
   "source": [
    "# replace the first four rows of the smoothed data with the non-smoothed data to avoid NANs\n",
    "#trialDataActive[['Lick count','Smoothed speed', 'Smoothed pupil']].values\n",
    "\n",
    "smothSpeedArray = trialDataPassive['Smoothed speed'].values\n",
    "smothPupilArray = trialDataPassive['Smoothed pupil'].values\n",
    "#lickCountArray=trialDataActive['Lick count'].values\n",
    "smothSpeedArray[0:4]=trialDataPassive['Mean speed'].values[0:4]\n",
    "smothPupilArray[0:4]=trialDataPassive['Mean pupil area'].values[0:4]\n",
    "#lickCountArray[0:4]=0\n",
    "input_data = np.vstack([smothSpeedArray,smothPupilArray]).T\n",
    "\n",
    "input_data = scaler.fit_transform(input_data)\n",
    "# input_data  = trialDataActive[['Lick count','Smoothed speed', 'Smoothed pupil']].values"
   ]
  },
  {
   "cell_type": "code",
   "execution_count": 16,
   "id": "466aed87-fde0-47e4-8df7-5d6ff46ad712",
   "metadata": {
    "tags": []
   },
   "outputs": [
    {
     "data": {
      "text/html": [
       "\n",
       "<style>\n",
       "    /* Turns off some styling */\n",
       "    progress {\n",
       "        /* gets rid of default border in Firefox and Opera. */\n",
       "        border: none;\n",
       "        /* Needs to be in here for Safari polyfill so background images work as expected. */\n",
       "        background-size: auto;\n",
       "    }\n",
       "    progress:not([value]), progress:not([value])::-webkit-progress-bar {\n",
       "        background: repeating-linear-gradient(45deg, #7e7e7e, #7e7e7e 10px, #5c5c5c 10px, #5c5c5c 20px);\n",
       "    }\n",
       "    .progress-bar-interrupted, .progress-bar-interrupted::-webkit-progress-bar {\n",
       "        background: #F44336;\n",
       "    }\n",
       "</style>\n"
      ],
      "text/plain": [
       "<IPython.core.display.HTML object>"
      ]
     },
     "metadata": {},
     "output_type": "display_data"
    },
    {
     "data": {
      "text/html": [
       "\n",
       "    <div>\n",
       "      <progress value='500' class='' max='500' style='width:300px; height:20px; vertical-align: middle;'></progress>\n",
       "      100.00% [500/500 00:01&lt;00:00]\n",
       "    </div>\n",
       "    "
      ],
      "text/plain": [
       "<IPython.core.display.HTML object>"
      ]
     },
     "metadata": {},
     "output_type": "display_data"
    }
   ],
   "source": [
    "#re-run the model haivg selected your number of states\n",
    "best_num_states = 2\n",
    "\n",
    "key = jr.PRNGKey(0)\n",
    "\n",
    "number_of_states = best_num_states\n",
    "\n",
    "final_hmm = GaussianHMM(best_num_states, input_data.shape[1], transition_matrix_stickiness=10.)\n",
    "\n",
    "params, props = final_hmm.initialize(key=key, method=\"kmeans\", emissions=input_data)\n",
    "\n",
    "params, lps = final_hmm.fit_em(params, props, input_data, num_iters=500)"
   ]
  },
  {
   "cell_type": "code",
   "execution_count": 17,
   "id": "0cac53e4-75a1-4151-b520-4731892f75be",
   "metadata": {
    "tags": []
   },
   "outputs": [
    {
     "data": {
      "text/plain": [
       "<AxesSubplot:>"
      ]
     },
     "execution_count": 17,
     "metadata": {},
     "output_type": "execute_result"
    },
    {
     "data": {
      "image/png": "[encoded data removed]",
      "text/plain": [
       "<Figure size 640x480 with 2 Axes>"
      ]
     },
     "metadata": {},
     "output_type": "display_data"
    }
   ],
   "source": [
    "#plotting the learned transition matrix\n",
    "sns.heatmap(np.squeeze(params.transitions), annot=True)"
   ]
  },
  {
   "cell_type": "code",
   "execution_count": 18,
   "id": "e74d321d-b779-4b0f-9476-f40d3c55b735",
   "metadata": {
    "tags": []
   },
   "outputs": [
    {
     "data": {
      "text/plain": [
       "<matplotlib.legend.Legend at 0x7f63edf940a0>"
      ]
     },
     "execution_count": 18,
     "metadata": {},
     "output_type": "execute_result"
    },
    {
     "data": {
      "image/png": "[encoded data removed]",
      "text/plain": [
       "<Figure size 640x480 with 1 Axes>"
      ]
     },
     "metadata": {},
     "output_type": "display_data"
    }
   ],
   "source": [
    "#plotting the means of the learned emission matrix where each state is a different line\n",
    "#emission matrix is the n dimensional distribution you learned for each state.\n",
    "#plt.plot(params.emissions.covs) #this will give covariance of the n dimensional distribution instead of means\n",
    "plt.plot(params.emissions.means)#similar emission means will be comparable states across mice.\n",
    "plt.legend(['running', 'pupil'])"
   ]
  },
  {
   "cell_type": "code",
   "execution_count": 20,
   "id": "df69d6d6-d80a-4888-b05b-e5fdd5a98eeb",
   "metadata": {
    "tags": []
   },
   "outputs": [
    {
     "data": {
      "image/png": "[encoded data removed]",
      "text/plain": [
       "<Figure size 1200x400 with 1 Axes>"
      ]
     },
     "metadata": {},
     "output_type": "display_data"
    }
   ],
   "source": [
    "def minmax(x):\n",
    "    # Function to normalize the data for easy visualization\n",
    "    return (x - np.min(x))/(np.max(x) - np.min(x)) \n",
    "\n",
    "# Find the most likely discrete states given the learned model parameters\n",
    "most_likely_states = final_hmm.most_likely_states(params, input_data)\n",
    "\n",
    "# Overlay the precision and recall curves on top of the inferred states\n",
    "fig, ax = plt.subplots(figsize=(12, 4))\n",
    "cmap =sns.color_palette(\"Set2\", best_num_states)\n",
    "bounds=np.arange(-0.5, best_num_states, 0.5)\n",
    "\n",
    "# Define state boundaries \n",
    "states = most_likely_states\n",
    "switch_trials = np.where(np.diff(states))[0]\n",
    "switch_trials = np.concatenate(([0], switch_trials, [len(trialIndsP)-1]))\n",
    "\n",
    "# Plot the states \n",
    "for i, trial in enumerate(switch_trials[:-1]):\n",
    "    for state_no in range(best_num_states):\n",
    "        if states[trial+1] == state_no: \n",
    "            ax.axvspan(trialIndsP[trial], trialIndsP[switch_trials[i+1]], \n",
    "                       facecolor= cmap[state_no], alpha=0.9, label = 'State' + str(state_no))\n",
    "\n",
    "# Overlay behavioral variables \n",
    "plt.plot(trialIndsP, minmax(trialDataPassive['Smoothed speed']), color = 'black', label=\"Running Speed\", lw = 1)\n",
    "plt.plot(trialIndsP, minmax(trialDataPassive['Smoothed pupil']), color = 'tab:blue', label=\"Pupil Area\", lw = 1)\n",
    "#plt.plot(trialIndsP, minmax(trialDataPassive['Rolling mean hit rate']), color = 'blue', label=\"Hit rate\", lw = 1)\n",
    "\n",
    "\n",
    "# Formatting \n",
    "plt.xlim(trialIndsP[0], trialIndsP[-1])\n",
    "plt.ylabel(\"normalized activity\")\n",
    "plt.xlabel(\"trials\")\n",
    "handles, labels = plt.gca().get_legend_handles_labels()\n",
    "by_label = dict(zip(labels, handles))\n",
    "plt.legend(by_label.values(), by_label.keys(), bbox_to_anchor = (1.01, 1), fontsize = 8)\n",
    "plt.tight_layout()"
   ]
  },
  {
   "cell_type": "code",
   "execution_count": 21,
   "id": "f43d29d3-ed3b-4d21-8cd7-48259c94cee0",
   "metadata": {},
   "outputs": [],
   "source": [
    "trialData['state']=np.nan"
   ]
  },
  {
   "cell_type": "code",
   "execution_count": 22,
   "id": "974f5850-e6b1-49c4-b4a1-eaebb454d0a6",
   "metadata": {},
   "outputs": [],
   "source": [
    "trialData['state'][trialData['Active']==False]=most_likely_states"
   ]
  },
  {
   "cell_type": "code",
   "execution_count": 23,
   "id": "7b472cf0-0195-4bff-881d-79de255df47e",
   "metadata": {
    "tags": []
   },
   "outputs": [],
   "source": [
    "#get the assigned states for each trial and expand that to be for each stim presentation, by duplicating each trial's \n",
    "#assigned state 4 times in a row\n",
    "#stateByStimPresentation = np.repeat(most_likely_states,4)\n",
    "#make a new column in trial df, the dataframe of presentations that everyone shares. \n",
    "#alternatively, could do this for fullData above, or just export this as a standalone list or array\n",
    "#start with the column as all NaNs, to that the passive state will fill in as NaNs\n",
    "#trial_df['state']=np.nan"
   ]
  },
  {
   "cell_type": "code",
   "execution_count": 24,
   "id": "7c57414c-ae5b-41a3-83dd-f3e135f2bd82",
   "metadata": {
    "tags": []
   },
   "outputs": [],
   "source": [
    "#for the stim presentations in the active session, replace NaN with the addigned state\n",
    "#trial_df['state'][trial_df['active']==False]=stateByStimPresentation # for active only\n",
    "#trial_df['state']=stateByStimPresentation\n",
    "# alternative index that gives the same thing \n",
    "# trial_df['state'][0:stateByStimPresentation.shape[0]]=stateByStimPresentation"
   ]
  },
  {
   "cell_type": "code",
   "execution_count": 25,
   "id": "aed1a606-5f68-4a07-ac3b-a00cf47bf6af",
   "metadata": {
    "tags": []
   },
   "outputs": [],
   "source": [
    "trialDataby4 = pd.DataFrame(np.repeat(trialData.to_numpy(), 4, axis=0), columns=trialData.columns)\n",
    "trialDataby4.reset_index(inplace = True)"
   ]
  },
  {
   "cell_type": "code",
   "execution_count": 26,
   "id": "6b1f6900-d7fb-42b9-84ce-feee4c1f5450",
   "metadata": {},
   "outputs": [],
   "source": [
    "trial_df.reset_index(inplace = True)\n",
    "#trial_df.head(1)"
   ]
  },
  {
   "cell_type": "code",
   "execution_count": 27,
   "id": "db4fd239-3755-447f-ab18-2488d5f16853",
   "metadata": {},
   "outputs": [
    {
     "data": {
      "text/html": [
       "<div>\n",
       "<style scoped>\n",
       "    .dataframe tbody tr th:only-of-type {\n",
       "        vertical-align: middle;\n",
       "    }\n",
       "\n",
       "    .dataframe tbody tr th {\n",
       "        vertical-align: top;\n",
       "    }\n",
       "\n",
       "    .dataframe thead th {\n",
       "        text-align: right;\n",
       "    }\n",
       "</style>\n",
       "<table border=\"1\" class=\"dataframe\">\n",
       "  <thead>\n",
       "    <tr style=\"text-align: right;\">\n",
       "      <th></th>\n",
       "      <th>key_0</th>\n",
       "      <th>stimulus_presentations_id</th>\n",
       "      <th>active</th>\n",
       "      <th>trials_id</th>\n",
       "      <th>start_time</th>\n",
       "      <th>end_time</th>\n",
       "      <th>image_int</th>\n",
       "      <th>image_name</th>\n",
       "      <th>Lick count</th>\n",
       "      <th>Rolling mean hit rate</th>\n",
       "      <th>Hit/miss this trial</th>\n",
       "      <th>Smoothed speed</th>\n",
       "      <th>Smoothed pupil</th>\n",
       "      <th>state</th>\n",
       "    </tr>\n",
       "  </thead>\n",
       "  <tbody>\n",
       "    <tr>\n",
       "      <th>0</th>\n",
       "      <td>0</td>\n",
       "      <td>1</td>\n",
       "      <td>True</td>\n",
       "      <td>0</td>\n",
       "      <td>26.545093</td>\n",
       "      <td>26.795307</td>\n",
       "      <td>1</td>\n",
       "      <td>im036_r</td>\n",
       "      <td>NaN</td>\n",
       "      <td>NaN</td>\n",
       "      <td>NaN</td>\n",
       "      <td>NaN</td>\n",
       "      <td>NaN</td>\n",
       "      <td>NaN</td>\n",
       "    </tr>\n",
       "    <tr>\n",
       "      <th>1</th>\n",
       "      <td>1</td>\n",
       "      <td>2</td>\n",
       "      <td>True</td>\n",
       "      <td>0</td>\n",
       "      <td>27.295714</td>\n",
       "      <td>27.545918</td>\n",
       "      <td>1</td>\n",
       "      <td>im036_r</td>\n",
       "      <td>NaN</td>\n",
       "      <td>NaN</td>\n",
       "      <td>NaN</td>\n",
       "      <td>NaN</td>\n",
       "      <td>NaN</td>\n",
       "      <td>NaN</td>\n",
       "    </tr>\n",
       "    <tr>\n",
       "      <th>2</th>\n",
       "      <td>2</td>\n",
       "      <td>3</td>\n",
       "      <td>True</td>\n",
       "      <td>0</td>\n",
       "      <td>28.046331</td>\n",
       "      <td>28.296539</td>\n",
       "      <td>1</td>\n",
       "      <td>im036_r</td>\n",
       "      <td>NaN</td>\n",
       "      <td>NaN</td>\n",
       "      <td>NaN</td>\n",
       "      <td>NaN</td>\n",
       "      <td>NaN</td>\n",
       "      <td>NaN</td>\n",
       "    </tr>\n",
       "    <tr>\n",
       "      <th>3</th>\n",
       "      <td>3</td>\n",
       "      <td>4</td>\n",
       "      <td>True</td>\n",
       "      <td>0</td>\n",
       "      <td>28.796957</td>\n",
       "      <td>29.047168</td>\n",
       "      <td>1</td>\n",
       "      <td>im036_r</td>\n",
       "      <td>NaN</td>\n",
       "      <td>NaN</td>\n",
       "      <td>NaN</td>\n",
       "      <td>NaN</td>\n",
       "      <td>NaN</td>\n",
       "      <td>NaN</td>\n",
       "    </tr>\n",
       "    <tr>\n",
       "      <th>4</th>\n",
       "      <td>4</td>\n",
       "      <td>11</td>\n",
       "      <td>True</td>\n",
       "      <td>1</td>\n",
       "      <td>34.051331</td>\n",
       "      <td>34.301539</td>\n",
       "      <td>0</td>\n",
       "      <td>im012_r</td>\n",
       "      <td>NaN</td>\n",
       "      <td>NaN</td>\n",
       "      <td>NaN</td>\n",
       "      <td>NaN</td>\n",
       "      <td>NaN</td>\n",
       "      <td>NaN</td>\n",
       "    </tr>\n",
       "    <tr>\n",
       "      <th>...</th>\n",
       "      <td>...</td>\n",
       "      <td>...</td>\n",
       "      <td>...</td>\n",
       "      <td>...</td>\n",
       "      <td>...</td>\n",
       "      <td>...</td>\n",
       "      <td>...</td>\n",
       "      <td>...</td>\n",
       "      <td>...</td>\n",
       "      <td>...</td>\n",
       "      <td>...</td>\n",
       "      <td>...</td>\n",
       "      <td>...</td>\n",
       "      <td>...</td>\n",
       "    </tr>\n",
       "    <tr>\n",
       "      <th>2067</th>\n",
       "      <td>2067</td>\n",
       "      <td>13377</td>\n",
       "      <td>False</td>\n",
       "      <td>604</td>\n",
       "      <td>8770.586575</td>\n",
       "      <td>8770.836775</td>\n",
       "      <td>3</td>\n",
       "      <td>im047_r</td>\n",
       "      <td>NaN</td>\n",
       "      <td>NaN</td>\n",
       "      <td>NaN</td>\n",
       "      <td>18.717296</td>\n",
       "      <td>1830.349318</td>\n",
       "      <td>1.0</td>\n",
       "    </tr>\n",
       "    <tr>\n",
       "      <th>2068</th>\n",
       "      <td>2068</td>\n",
       "      <td>13387</td>\n",
       "      <td>False</td>\n",
       "      <td>605</td>\n",
       "      <td>8778.092866</td>\n",
       "      <td>8778.343065</td>\n",
       "      <td>2</td>\n",
       "      <td>im044_r</td>\n",
       "      <td>NaN</td>\n",
       "      <td>NaN</td>\n",
       "      <td>NaN</td>\n",
       "      <td>11.697097</td>\n",
       "      <td>1786.488692</td>\n",
       "      <td>1.0</td>\n",
       "    </tr>\n",
       "    <tr>\n",
       "      <th>2069</th>\n",
       "      <td>2069</td>\n",
       "      <td>13388</td>\n",
       "      <td>False</td>\n",
       "      <td>605</td>\n",
       "      <td>8778.843465</td>\n",
       "      <td>8779.093677</td>\n",
       "      <td>2</td>\n",
       "      <td>im044_r</td>\n",
       "      <td>NaN</td>\n",
       "      <td>NaN</td>\n",
       "      <td>NaN</td>\n",
       "      <td>11.697097</td>\n",
       "      <td>1786.488692</td>\n",
       "      <td>1.0</td>\n",
       "    </tr>\n",
       "    <tr>\n",
       "      <th>2070</th>\n",
       "      <td>2070</td>\n",
       "      <td>13389</td>\n",
       "      <td>False</td>\n",
       "      <td>605</td>\n",
       "      <td>8779.594102</td>\n",
       "      <td>8779.844315</td>\n",
       "      <td>2</td>\n",
       "      <td>im044_r</td>\n",
       "      <td>NaN</td>\n",
       "      <td>NaN</td>\n",
       "      <td>NaN</td>\n",
       "      <td>11.697097</td>\n",
       "      <td>1786.488692</td>\n",
       "      <td>1.0</td>\n",
       "    </tr>\n",
       "    <tr>\n",
       "      <th>2071</th>\n",
       "      <td>2071</td>\n",
       "      <td>13390</td>\n",
       "      <td>False</td>\n",
       "      <td>605</td>\n",
       "      <td>8780.344730</td>\n",
       "      <td>8780.594937</td>\n",
       "      <td>2</td>\n",
       "      <td>im044_r</td>\n",
       "      <td>NaN</td>\n",
       "      <td>NaN</td>\n",
       "      <td>NaN</td>\n",
       "      <td>11.697097</td>\n",
       "      <td>1786.488692</td>\n",
       "      <td>1.0</td>\n",
       "    </tr>\n",
       "  </tbody>\n",
       "</table>\n",
       "<p>2072 rows × 14 columns</p>\n",
       "</div>"
      ],
      "text/plain": [
       "      key_0  stimulus_presentations_id  active  trials_id   start_time  \\\n",
       "0         0                          1    True          0    26.545093   \n",
       "1         1                          2    True          0    27.295714   \n",
       "2         2                          3    True          0    28.046331   \n",
       "3         3                          4    True          0    28.796957   \n",
       "4         4                         11    True          1    34.051331   \n",
       "...     ...                        ...     ...        ...          ...   \n",
       "2067   2067                      13377   False        604  8770.586575   \n",
       "2068   2068                      13387   False        605  8778.092866   \n",
       "2069   2069                      13388   False        605  8778.843465   \n",
       "2070   2070                      13389   False        605  8779.594102   \n",
       "2071   2071                      13390   False        605  8780.344730   \n",
       "\n",
       "         end_time  image_int image_name  Lick count  Rolling mean hit rate  \\\n",
       "0       26.795307          1    im036_r         NaN                    NaN   \n",
       "1       27.545918          1    im036_r         NaN                    NaN   \n",
       "2       28.296539          1    im036_r         NaN                    NaN   \n",
       "3       29.047168          1    im036_r         NaN                    NaN   \n",
       "4       34.301539          0    im012_r         NaN                    NaN   \n",
       "...           ...        ...        ...         ...                    ...   \n",
       "2067  8770.836775          3    im047_r         NaN                    NaN   \n",
       "2068  8778.343065          2    im044_r         NaN                    NaN   \n",
       "2069  8779.093677          2    im044_r         NaN                    NaN   \n",
       "2070  8779.844315          2    im044_r         NaN                    NaN   \n",
       "2071  8780.594937          2    im044_r         NaN                    NaN   \n",
       "\n",
       "      Hit/miss this trial  Smoothed speed  Smoothed pupil  state  \n",
       "0                     NaN             NaN             NaN    NaN  \n",
       "1                     NaN             NaN             NaN    NaN  \n",
       "2                     NaN             NaN             NaN    NaN  \n",
       "3                     NaN             NaN             NaN    NaN  \n",
       "4                     NaN             NaN             NaN    NaN  \n",
       "...                   ...             ...             ...    ...  \n",
       "2067                  NaN       18.717296     1830.349318    1.0  \n",
       "2068                  NaN       11.697097     1786.488692    1.0  \n",
       "2069                  NaN       11.697097     1786.488692    1.0  \n",
       "2070                  NaN       11.697097     1786.488692    1.0  \n",
       "2071                  NaN       11.697097     1786.488692    1.0  \n",
       "\n",
       "[2072 rows x 14 columns]"
      ]
     },
     "execution_count": 27,
     "metadata": {},
     "output_type": "execute_result"
    }
   ],
   "source": [
    "trial_df1 = pd.merge(trial_df, trialDataby4\n",
    "                     [['Lick count', 'Rolling mean hit rate', 'Hit/miss this trial', 'Smoothed speed', 'Smoothed pupil', 'state']],on = trialDataby4.index.values, how= 'outer')\n",
    "trial_df1"
   ]
  },
  {
   "cell_type": "code",
   "execution_count": 28,
   "id": "7113792c-bbcc-4a4a-83ee-99c0d060347e",
   "metadata": {
    "tags": []
   },
   "outputs": [
    {
     "name": "stdout",
     "output_type": "stream",
     "text": [
      "\u001b[33mWARNING: Running pip as the 'root' user can result in broken permissions and conflicting behaviour with the system package manager. It is recommended to use a virtual environment instead: https://pip.pypa.io/warnings/venv\u001b[0m\n"
     ]
    }
   ],
   "source": [
    "!pip install -q pyarrow"
   ]
  },
  {
   "cell_type": "code",
   "execution_count": 29,
   "id": "e30d5b80-543a-460b-a8a4-1047537d4365",
   "metadata": {
    "tags": []
   },
   "outputs": [],
   "source": [
    "trial_df1.to_feather('../analysis_data/P1108334384.feather')"
   ]
  }
 ],
 "metadata": {
  "kernelspec": {
   "display_name": "Python 3 (ipykernel)",
   "language": "python",
   "name": "python3"
  },
  "language_info": {
   "codemirror_mode": {
    "name": "ipython",
    "version": 3
   },
   "file_extension": ".py",
   "mimetype": "text/x-python",
   "name": "python",
   "nbconvert_exporter": "python",
   "pygments_lexer": "ipython3",
   "version": "3.9.12"
  }
 },
 "nbformat": 4,
 "nbformat_minor": 5
}
