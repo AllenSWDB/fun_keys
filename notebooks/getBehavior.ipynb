{
 "cells": [
  {
   "cell_type": "code",
   "execution_count": null,
   "id": "f6357f05-c50c-4ea0-b6ab-bcc54f00684a",
   "metadata": {
    "tags": []
   },
   "outputs": [],
   "source": [
    "import pandas as pd\n",
    "import numpy as np\n",
    "import scipy as scipy\n",
    "import matplotlib.pyplot as plt\n",
    "%matplotlib inline\n",
    "from data.load_data import *\n",
    "from sklearn.preprocessing import StandardScaler\n",
    "import tensorflow_probability.substrates.jax.distributions as tfd\n",
    "from dynamax.utils.utils import find_permutation\n",
    "import seaborn as sns"
   ]
  },
  {
   "cell_type": "code",
   "execution_count": null,
   "id": "ab9f36a2-1f17-4b8a-b554-937ef8c5a3ae",
   "metadata": {
    "tags": []
   },
   "outputs": [],
   "source": [
    "cache = load_cache_behavior_neuropixel()"
   ]
  },
  {
   "cell_type": "code",
   "execution_count": null,
   "id": "630aa476-a9b9-4fb9-81bb-24a57c1556d5",
   "metadata": {
    "tags": []
   },
   "outputs": [],
   "source": [
    "#making a list of sessions\n",
    "example_sessions = [1048196054, 1053718935, 1053925378, 1064415305, 1081090969, 1081431006, 1108334384, \n",
    "                    1108531612, 1115356973, 1118327332, 1120251466, 1130349290]\n",
    "#choosing a session id and coding it as the variable session_id\n",
    "session_id = example_sessions[5]\n",
    "# session_id = 1139846596\n",
    "\n",
    "#get the info for this session\n",
    "session = cache.get_ecephys_session(session_id)\n",
    "# fun_key function to get the stimulus presentations we're interested in\n",
    "trial_df = get_trial_df(session)\n",
    "# extract behavioral variables for the trials we're interested in\n",
    "behavior = make_behavior_table_active(session,trial_df)"
   ]
  },
  {
   "cell_type": "code",
   "execution_count": null,
   "id": "348318be-c9f3-4537-b0ae-15c41156afec",
   "metadata": {
    "tags": []
   },
   "outputs": [],
   "source": [
    "behavByStim = make_behavior_table_byStim(session,trial_df)"
   ]
  },
  {
   "cell_type": "code",
   "execution_count": null,
   "id": "5859c1b2-7b1b-4d9b-a629-728a52ca1673",
   "metadata": {
    "tags": []
   },
   "outputs": [],
   "source": [
    "behavior['Trials id']=behavior.index"
   ]
  },
  {
   "cell_type": "code",
   "execution_count": null,
   "id": "0e998076-ded5-4503-ba8f-bd225440ea30",
   "metadata": {
    "tags": []
   },
   "outputs": [],
   "source": [
    "fullData = pd.merge(behavByStim,behavior[['Trials id','Lick count','Rolling mean hit rate','Hit/miss this trial']],how='left',on='Trials id')"
   ]
  },
  {
   "cell_type": "code",
   "execution_count": null,
   "id": "a59d0e38-ebbb-4c83-b736-03363a8acf9b",
   "metadata": {
    "tags": []
   },
   "outputs": [],
   "source": [
    "fullData.loc[fullData.Active==False,['Lick count','Rolling mean hit rate','Hit/miss this trial']]=np.nan"
   ]
  },
  {
   "cell_type": "code",
   "execution_count": null,
   "id": "847ba7c7-bbec-4bee-9537-aded047d0e50",
   "metadata": {
    "tags": []
   },
   "outputs": [],
   "source": [
    "trialData=fullData.groupby(np.arange(len(fullData))//4).mean()\n",
    "trialData"
   ]
  }
 ],
 "metadata": {
  "kernelspec": {
   "display_name": "Python 3 (ipykernel)",
   "language": "python",
   "name": "python3"
  },
  "language_info": {
   "codemirror_mode": {
    "name": "ipython",
    "version": 3
   },
   "file_extension": ".py",
   "mimetype": "text/x-python",
   "name": "python",
   "nbconvert_exporter": "python",
   "pygments_lexer": "ipython3",
   "version": "3.9.12"
  }
 },
 "nbformat": 4,
 "nbformat_minor": 5
}
