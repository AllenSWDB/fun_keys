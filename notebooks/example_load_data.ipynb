{
 "cells": [
  {
   "cell_type": "code",
   "execution_count": null,
   "id": "c42ae18a-c69a-4348-a376-4c92890662f1",
   "metadata": {},
   "outputs": [],
   "source": []
  },
  {
   "cell_type": "code",
   "execution_count": 1,
   "id": "f99e4f67-b995-4a82-a9cd-77a61234baa9",
   "metadata": {
    "tags": []
   },
   "outputs": [
    {
     "name": "stdout",
     "output_type": "stream",
     "text": [
      "Working directory: /root/capsule\n"
     ]
    }
   ],
   "source": [
    "## change to main directory of repository for imports from code\n",
    "import os, sys\n",
    "if 'notebooks' in os.getcwd():\n",
    "    os.chdir(\"..\")\n",
    "    \n",
    "if '/root/capsule/code' not in sys.path:\n",
    "    sys.path.insert(0, '/root/capsule/code')\n",
    "    \n",
    "print('Working directory:', os.getcwd() )"
   ]
  },
  {
   "cell_type": "code",
   "execution_count": 2,
   "id": "7da5b3b5-5de5-4898-a497-32a3adc37c5b",
   "metadata": {
    "tags": []
   },
   "outputs": [],
   "source": [
    "from data import load_data"
   ]
  },
  {
   "cell_type": "code",
   "execution_count": 3,
   "id": "bd4ea365-ff7d-497c-8f60-63f293347e7c",
   "metadata": {
    "tags": []
   },
   "outputs": [
    {
     "data": {
      "text/plain": [
       "<allensdk.brain_observatory.behavior.behavior_project_cache.behavior_neuropixels_project_cache.VisualBehaviorNeuropixelsProjectCache at 0x7f56a84e35b0>"
      ]
     },
     "execution_count": 3,
     "metadata": {},
     "output_type": "execute_result"
    }
   ],
   "source": [
    "cache = load_data.load_cache_behavior_neuropixel()\n",
    "cache"
   ]
  },
  {
   "cell_type": "code",
   "execution_count": 4,
   "id": "bcf5a4f4-1443-4335-895c-48a27eb38008",
   "metadata": {
    "tags": []
   },
   "outputs": [
    {
     "data": {
      "text/plain": [
       "<allensdk.brain_observatory.ecephys.behavior_ecephys_session.BehaviorEcephysSession at 0x7f560a90c520>"
      ]
     },
     "execution_count": 4,
     "metadata": {},
     "output_type": "execute_result"
    }
   ],
   "source": [
    "example_sessions = [1139846596,  1124507277, 1069461581]\n",
    "\n",
    "session_id = example_sessions[0] \n",
    "session = cache.get_ecephys_session(session_id)\n",
    "session"
   ]
  }
 ],
 "metadata": {
  "kernelspec": {
   "display_name": "Python 3 (ipykernel)",
   "language": "python",
   "name": "python3"
  },
  "language_info": {
   "codemirror_mode": {
    "name": "ipython",
    "version": 3
   },
   "file_extension": ".py",
   "mimetype": "text/x-python",
   "name": "python",
   "nbconvert_exporter": "python",
   "pygments_lexer": "ipython3",
   "version": "3.9.12"
  }
 },
 "nbformat": 4,
 "nbformat_minor": 5
}
